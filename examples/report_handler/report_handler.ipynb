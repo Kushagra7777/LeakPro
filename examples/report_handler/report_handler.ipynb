{
 "cells": [
  {
   "cell_type": "markdown",
   "id": "95d5acad-514e-4950-94a0-c80d789d9364",
   "metadata": {},
   "source": [
    "# Report handler examples"
   ]
  },
  {
   "cell_type": "markdown",
   "id": "71f5dbe9",
   "metadata": {},
   "source": [
    "Install leakpro as ``` pip install -e /path/to/leakpro ```"
   ]
  },
  {
   "cell_type": "markdown",
   "id": "68b48ce8",
   "metadata": {},
   "source": [
    "### Synthetic examples"
   ]
  },
  {
   "cell_type": "code",
   "execution_count": 1,
   "id": "bcf529c7-8bfe-49da-9889-59111ec2cd73",
   "metadata": {},
   "outputs": [
    {
     "name": "stderr",
     "output_type": "stream",
     "text": [
      "/opt/conda/lib/python3.10/site-packages/tqdm/auto.py:21: TqdmWarning: IProgress not found. Please update jupyter and ipywidgets. See https://ipywidgets.readthedocs.io/en/stable/user_install.html\n",
      "  from .autonotebook import tqdm as notebook_tqdm\n"
     ]
    }
   ],
   "source": [
    "import os\n",
    "import sys\n",
    "\n",
    "import pandas as pd\n",
    "\n",
    "sys.path.append(\"../..\")\n",
    "\n",
    "from leakpro.synthetic_data_attacks.anomalies import return_anomalies\n",
    "from leakpro.synthetic_data_attacks.inference_utils import inference_risk_evaluation\n",
    "from leakpro.synthetic_data_attacks.linkability_utils import linkability_risk_evaluation\n",
    "from leakpro.synthetic_data_attacks.singling_out_utils import singling_out_risk_evaluation\n",
    "\n",
    "#Get ori and syn\n",
    "n_samples = 100\n",
    "DATA_PATH = \"../synthetic_data/datasets/\"\n",
    "ori = pd.read_csv(os.path.join(DATA_PATH, \"adults_ori.csv\"), nrows=n_samples)\n",
    "syn = pd.read_csv(os.path.join(DATA_PATH, \"adults_syn.csv\"), nrows=n_samples)"
   ]
  },
  {
   "cell_type": "code",
   "execution_count": 2,
   "id": "c89f3738",
   "metadata": {},
   "outputs": [],
   "source": [
    "# syn_anom = return_anomalies(df=syn, n_estimators=1000, n_jobs=-1, verbose=True)\n",
    "# print(\"Syn anom shape\",syn_anom.shape)"
   ]
  },
  {
   "cell_type": "code",
   "execution_count": 3,
   "id": "ad69ece9",
   "metadata": {},
   "outputs": [],
   "source": [
    "# # Create a singling-out result\n",
    "# sin_out_res = singling_out_risk_evaluation(\n",
    "#     dataset = \"adults\",\n",
    "#     ori = ori,\n",
    "#     syn = syn_anom,\n",
    "#     n_attacks = syn_anom.shape[0]\n",
    "# )"
   ]
  },
  {
   "cell_type": "code",
   "execution_count": 4,
   "id": "7d7ffb5a",
   "metadata": {},
   "outputs": [],
   "source": [
    "# # Create linkability result\n",
    "# link_res = linkability_risk_evaluation(\n",
    "#     dataset = \"adults\",\n",
    "#     ori = ori,\n",
    "#     syn = syn_anom,\n",
    "#     n_samples = syn_anom.shape[0],\n",
    "#     n_attacks = 100\n",
    "# )"
   ]
  },
  {
   "cell_type": "code",
   "execution_count": 5,
   "id": "0a5c20e2",
   "metadata": {},
   "outputs": [],
   "source": [
    "# # # Create base-case inference result\n",
    "# inf_res = inference_risk_evaluation(\n",
    "#     dataset = \"adults\",\n",
    "#     ori = ori,\n",
    "#     syn = syn_anom,\n",
    "#     worst_case_flag = False,\n",
    "#     n_attacks = syn_anom.shape[0]\n",
    "# )\n",
    "\n",
    "# # # Create worst-case inference result\n",
    "# inf_res_worst = inference_risk_evaluation(\n",
    "#     dataset = \"adults\",\n",
    "#     ori = ori,\n",
    "#     syn = syn_anom,\n",
    "#     worst_case_flag = True,\n",
    "#     n_attacks = syn_anom.shape[0]\n",
    "# )"
   ]
  },
  {
   "cell_type": "markdown",
   "id": "0b3be474",
   "metadata": {},
   "source": [
    "### Gradient inversion example"
   ]
  },
  {
   "cell_type": "code",
   "execution_count": null,
   "id": "35aee5a3",
   "metadata": {},
   "outputs": [
    {
     "name": "stdout",
     "output_type": "stream",
     "text": [
      "Files already downloaded and verified\n"
     ]
    },
    {
     "name": "stderr",
     "output_type": "stream",
     "text": [
      "2025-03-15 01:05:38,417 INFO     Inverting gradient initialized.\n"
     ]
    }
   ],
   "source": [
    "sys.path.append(\"../gia/inverting_cifar10_1_image/\")\n",
    "from cifar import get_cifar10_loader\n",
    "from model import ResNet\n",
    "from torchvision.models.resnet import BasicBlock\n",
    "\n",
    "from leakpro.attacks.gia_attacks.invertinggradients import InvertingConfig\n",
    "from leakpro.metrics.attack_result import GIAResults\n",
    "from leakpro.fl_utils.gia_train import train\n",
    "from leakpro.run import run_inverting\n",
    "\n",
    "model = ResNet(BasicBlock, [5, 5, 5], num_classes=10, base_width=16 * 10)\n",
    "client_dataloader, data_mean, data_std = get_cifar10_loader(num_images=1, batch_size=1, num_workers=2)\n",
    "\n",
    "# Meta train function designed to work with GIA\n",
    "train_fn = train\n",
    "\n",
    "# Baseline config\n",
    "configs = InvertingConfig()\n",
    "configs.at_iterations = 1000 # Decreased from 8000 to avoid GPU memory crash\n",
    "\n",
    "name = \"my_gia_results\"\n",
    "GIA_result_generator = run_inverting(model, client_dataloader, train_fn, data_mean, data_std, configs, experiment_name=name, save=False)"
   ]
  },
  {
   "cell_type": "code",
   "execution_count": null,
   "id": "ccb0c18c",
   "metadata": {},
   "outputs": [],
   "source": [
    "GIA_result_generator_tuple = GIA_result_generator\n",
    "GIA_tuple_list = list(GIA_result_generator_tuple)\n"
   ]
  },
  {
   "cell_type": "code",
   "execution_count": null,
   "id": "248952be",
   "metadata": {},
   "outputs": [
    {
     "name": "stderr",
     "output_type": "stream",
     "text": [
      "2025-03-14 22:53:17,362 INFO     New best loss: 0.02594822272658348 on round: 0\n",
      "2025-03-14 22:53:17,363 INFO     Iteration 0, loss 0.02594822272658348\n",
      "2025-03-14 22:53:17,989 INFO     New best loss: 0.02235935628414154 on round: 1\n",
      "2025-03-14 22:53:18,090 INFO     New best loss: 0.020790791139006615 on round: 2\n",
      "2025-03-14 22:53:18,175 INFO     New best loss: 0.018613426014780998 on round: 3\n",
      "2025-03-14 22:53:18,265 INFO     New best loss: 0.0177666787058115 on round: 4\n",
      "2025-03-14 22:53:18,350 INFO     New best loss: 0.017525874078273773 on round: 5\n",
      "2025-03-14 22:53:18,435 INFO     New best loss: 0.01712038181722164 on round: 6\n",
      "2025-03-14 22:53:18,523 INFO     New best loss: 0.01679934933781624 on round: 7\n",
      "2025-03-14 22:53:18,606 INFO     New best loss: 0.015398581512272358 on round: 8\n",
      "2025-03-14 22:53:18,691 INFO     New best loss: 0.014680227264761925 on round: 9\n",
      "2025-03-14 22:53:18,857 INFO     New best loss: 0.014679155312478542 on round: 11\n",
      "2025-03-14 22:53:18,944 INFO     New best loss: 0.014535864815115929 on round: 12\n",
      "2025-03-14 22:53:19,359 INFO     New best loss: 0.01411879900842905 on round: 17\n",
      "2025-03-14 22:53:19,442 INFO     New best loss: 0.013892479240894318 on round: 18\n",
      "2025-03-14 22:53:19,594 INFO     New best loss: 0.01382362749427557 on round: 20\n",
      "2025-03-14 22:53:19,891 INFO     New best loss: 0.013804297894239426 on round: 24\n",
      "2025-03-14 22:53:19,965 INFO     New best loss: 0.013504959642887115 on round: 25\n",
      "2025-03-14 22:53:20,041 INFO     New best loss: 0.013078425079584122 on round: 26\n",
      "2025-03-14 22:53:20,485 INFO     New best loss: 0.01292948704212904 on round: 32\n",
      "2025-03-14 22:53:20,562 INFO     New best loss: 0.012853600084781647 on round: 33\n",
      "2025-03-14 22:53:20,637 INFO     New best loss: 0.012527374550700188 on round: 34\n",
      "2025-03-14 22:53:20,713 INFO     New best loss: 0.012519258074462414 on round: 35\n",
      "2025-03-14 22:53:21,233 INFO     New best loss: 0.012265630066394806 on round: 42\n",
      "2025-03-14 22:53:21,309 INFO     New best loss: 0.011567829176783562 on round: 43\n",
      "2025-03-14 22:53:21,463 INFO     New best loss: 0.011311805807054043 on round: 45\n",
      "2025-03-14 22:53:23,475 INFO     New best loss: 0.011081854812800884 on round: 72\n",
      "2025-03-14 22:53:23,552 INFO     New best loss: 0.010833772830665112 on round: 73\n",
      "2025-03-14 22:53:23,629 INFO     New best loss: 0.010754073970019817 on round: 74\n",
      "2025-03-14 22:53:26,076 INFO     New best loss: 0.010752182453870773 on round: 107\n",
      "2025-03-14 22:53:26,151 INFO     New best loss: 0.010681125335395336 on round: 108\n",
      "2025-03-14 22:53:26,228 INFO     New best loss: 0.010489189997315407 on round: 109\n",
      "2025-03-14 22:53:26,451 INFO     New best loss: 0.010279417037963867 on round: 112\n",
      "2025-03-14 22:53:26,527 INFO     New best loss: 0.010130457580089569 on round: 113\n",
      "2025-03-14 22:53:26,602 INFO     New best loss: 0.010070547461509705 on round: 114\n",
      "2025-03-14 22:53:27,938 INFO     New best loss: 0.009994531981647015 on round: 132\n",
      "2025-03-14 22:53:28,014 INFO     New best loss: 0.009855764918029308 on round: 133\n",
      "2025-03-14 22:53:28,089 INFO     New best loss: 0.009820114821195602 on round: 134\n",
      "2025-03-14 22:53:28,243 INFO     New best loss: 0.009537816978991032 on round: 136\n",
      "2025-03-14 22:53:28,392 INFO     New best loss: 0.009523387998342514 on round: 138\n",
      "2025-03-14 22:53:28,466 INFO     New best loss: 0.009513670578598976 on round: 139\n",
      "2025-03-14 22:53:29,204 INFO     New best loss: 0.009438655339181423 on round: 149\n",
      "2025-03-14 22:53:29,869 INFO     New best loss: 0.009296035394072533 on round: 158\n",
      "2025-03-14 22:53:30,564 INFO     New best loss: 0.009274889715015888 on round: 167\n",
      "2025-03-14 22:53:30,647 INFO     New best loss: 0.009194246493279934 on round: 168\n",
      "2025-03-14 22:53:32,081 INFO     New best loss: 0.009130299091339111 on round: 187\n",
      "2025-03-14 22:53:32,157 INFO     New best loss: 0.009009713307023048 on round: 188\n",
      "2025-03-14 22:53:33,194 INFO     New best loss: 0.0090029863640666 on round: 202\n",
      "2025-03-14 22:53:33,786 INFO     New best loss: 0.008911184966564178 on round: 210\n",
      "2025-03-14 22:53:34,234 INFO     New best loss: 0.008721868507564068 on round: 216\n",
      "2025-03-14 22:53:34,606 INFO     New best loss: 0.008682623505592346 on round: 221\n",
      "2025-03-14 22:53:34,829 INFO     New best loss: 0.00862992275506258 on round: 224\n",
      "2025-03-14 22:53:36,528 INFO     New best loss: 0.008623057045042515 on round: 247\n",
      "2025-03-14 22:53:36,750 INFO     Iteration 250, loss 0.009158235974609852\n",
      "2025-03-14 22:53:42,645 INFO     New best loss: 0.008413868956267834 on round: 319\n",
      "2025-03-14 22:53:42,810 INFO     New best loss: 0.008344851434230804 on round: 321\n",
      "2025-03-14 22:53:45,131 INFO     New best loss: 0.00820027943700552 on round: 349\n",
      "2025-03-14 22:53:45,299 INFO     New best loss: 0.008171369321644306 on round: 351\n",
      "2025-03-14 22:53:46,049 INFO     New best loss: 0.008161951787769794 on round: 360\n",
      "2025-03-14 22:53:46,133 INFO     New best loss: 0.008079278282821178 on round: 361\n",
      "2025-03-14 22:53:51,507 INFO     New best loss: 0.008026376366615295 on round: 433\n",
      "2025-03-14 22:53:51,583 INFO     New best loss: 0.007970286533236504 on round: 434\n",
      "2025-03-14 22:53:51,667 INFO     New best loss: 0.007876884192228317 on round: 435\n",
      "2025-03-14 22:53:52,435 INFO     New best loss: 0.007846116088330746 on round: 445\n",
      "2025-03-14 22:53:52,511 INFO     New best loss: 0.0077040777541697025 on round: 446\n",
      "2025-03-14 22:53:52,587 INFO     New best loss: 0.007680175825953484 on round: 447\n",
      "2025-03-14 22:53:52,663 INFO     New best loss: 0.007646975573152304 on round: 448\n",
      "2025-03-14 22:53:53,478 INFO     New best loss: 0.007643450051546097 on round: 459\n",
      "2025-03-14 22:53:53,556 INFO     New best loss: 0.007497417274862528 on round: 460\n",
      "2025-03-14 22:53:53,630 INFO     New best loss: 0.00736908707767725 on round: 461\n",
      "2025-03-14 22:53:53,926 INFO     New best loss: 0.007327417377382517 on round: 465\n",
      "2025-03-14 22:53:55,264 INFO     New best loss: 0.007295683957636356 on round: 483\n",
      "2025-03-14 22:53:56,601 INFO     New best loss: 0.007279513403773308 on round: 500\n",
      "2025-03-14 22:53:56,602 INFO     Iteration 500, loss 0.007279513403773308\n",
      "2025-03-14 22:53:57,291 INFO     New best loss: 0.00724619347602129 on round: 501\n",
      "2025-03-14 22:53:57,471 INFO     New best loss: 0.007208938244730234 on round: 503\n",
      "2025-03-14 22:53:57,556 INFO     New best loss: 0.007117921020835638 on round: 504\n",
      "2025-03-14 22:53:57,723 INFO     New best loss: 0.007096342742443085 on round: 506\n",
      "2025-03-14 22:53:57,808 INFO     New best loss: 0.006988875102251768 on round: 507\n",
      "2025-03-14 22:53:57,990 INFO     New best loss: 0.006915560457855463 on round: 509\n",
      "2025-03-14 22:53:58,490 INFO     New best loss: 0.0068106516264379025 on round: 515\n",
      "2025-03-14 22:53:58,668 INFO     New best loss: 0.006800337694585323 on round: 517\n",
      "2025-03-14 22:53:58,762 INFO     New best loss: 0.006798488553613424 on round: 518\n",
      "2025-03-14 22:54:00,582 INFO     New best loss: 0.0067963809706270695 on round: 541\n",
      "2025-03-14 22:54:01,029 INFO     New best loss: 0.006776762660592794 on round: 547\n",
      "2025-03-14 22:54:01,104 INFO     New best loss: 0.006657492835074663 on round: 548\n",
      "2025-03-14 22:54:01,179 INFO     New best loss: 0.006598483771085739 on round: 549\n",
      "2025-03-14 22:54:01,630 INFO     New best loss: 0.006589003838598728 on round: 555\n",
      "2025-03-14 22:54:01,781 INFO     New best loss: 0.00645912392064929 on round: 557\n",
      "2025-03-14 22:54:02,602 INFO     New best loss: 0.006371791008859873 on round: 568\n",
      "2025-03-14 22:54:03,054 INFO     New best loss: 0.006370832212269306 on round: 574\n",
      "2025-03-14 22:54:03,351 INFO     New best loss: 0.006350563373416662 on round: 578\n",
      "2025-03-14 22:54:03,500 INFO     New best loss: 0.006345673929899931 on round: 580\n",
      "2025-03-14 22:54:03,578 INFO     New best loss: 0.006258411332964897 on round: 581\n",
      "2025-03-14 22:54:03,653 INFO     New best loss: 0.006256979890167713 on round: 582\n",
      "2025-03-14 22:54:03,803 INFO     New best loss: 0.006192008964717388 on round: 584\n",
      "2025-03-14 22:54:10,503 INFO     New best loss: 0.0061780354008078575 on round: 668\n",
      "2025-03-14 22:54:10,986 INFO     New best loss: 0.006176960654556751 on round: 673\n",
      "2025-03-14 22:54:11,265 INFO     New best loss: 0.006144236773252487 on round: 676\n",
      "2025-03-14 22:54:13,050 INFO     New best loss: 0.006143398582935333 on round: 697\n",
      "2025-03-14 22:54:13,125 INFO     New best loss: 0.0061149075627326965 on round: 698\n",
      "2025-03-14 22:54:13,201 INFO     New best loss: 0.006107993423938751 on round: 699\n",
      "2025-03-14 22:54:13,276 INFO     New best loss: 0.0060593560338020325 on round: 700\n",
      "2025-03-14 22:54:13,582 INFO     New best loss: 0.006041652988642454 on round: 704\n",
      "2025-03-14 22:54:13,658 INFO     New best loss: 0.0059973071329295635 on round: 705\n",
      "2025-03-14 22:54:13,734 INFO     New best loss: 0.005981511902064085 on round: 706\n",
      "2025-03-14 22:54:17,339 INFO     Iteration 750, loss 0.006245498079806566\n",
      "2025-03-14 22:54:25,178 INFO     New best loss: 0.00597304105758667 on round: 842\n",
      "2025-03-14 22:54:25,329 INFO     New best loss: 0.005941271781921387 on round: 844\n",
      "2025-03-14 22:54:25,405 INFO     New best loss: 0.005932509899139404 on round: 845\n",
      "2025-03-14 22:54:25,480 INFO     New best loss: 0.00590932322666049 on round: 846\n",
      "2025-03-14 22:54:26,079 INFO     New best loss: 0.005907475482672453 on round: 854\n",
      "2025-03-14 22:54:26,165 INFO     New best loss: 0.005895792972296476 on round: 855\n",
      "2025-03-14 22:54:26,250 INFO     New best loss: 0.005887388717383146 on round: 856\n"
     ]
    },
    {
     "name": "stdout",
     "output_type": "stream",
     "text": [
      "tensor([[[[-1.6362e-01, -1.4775e-01, -1.1600e-01,  ..., -1.8146e+00,\n",
      "           -1.2272e+00, -8.4624e-01],\n",
      "          [-3.6626e-02, -3.6626e-02,  1.0998e-02,  ..., -1.3701e+00,\n",
      "           -9.8911e-01, -1.1637e+00],\n",
      "          [ 2.6873e-02,  5.8622e-02,  9.0372e-02,  ..., -1.0685e+00,\n",
      "           -1.0526e+00, -1.2907e+00],\n",
      "          ...,\n",
      "          [ 4.8724e-01,  3.7612e-01,  2.8087e-01,  ...,  7.0949e-01,\n",
      "            6.1424e-01,  4.0787e-01],\n",
      "          [ 2.9674e-01,  1.5387e-01,  2.3324e-01,  ...,  7.4497e-02,\n",
      "            5.8622e-02, -1.3187e-01],\n",
      "          [ 1.2212e-01,  2.6873e-02,  3.9199e-01,  ..., -8.4624e-01,\n",
      "           -7.6686e-01, -5.6049e-01]],\n",
      "\n",
      "         [[-1.1195e-01, -1.1195e-01, -7.9733e-02,  ..., -1.8031e+00,\n",
      "           -1.2233e+00, -8.5282e-01],\n",
      "          [ 7.9657e-04,  1.6903e-02,  3.3009e-02,  ..., -1.4004e+00,\n",
      "           -1.0139e+00, -1.2233e+00],\n",
      "          [ 6.5221e-02,  6.5221e-02,  8.1327e-02,  ..., -1.1266e+00,\n",
      "           -1.1266e+00, -1.3843e+00],\n",
      "          ...,\n",
      "          [-1.2805e-01, -2.4079e-01, -3.3743e-01,  ...,  5.8061e-01,\n",
      "            4.8398e-01,  2.5849e-01],\n",
      "          [-2.7301e-01, -4.1796e-01, -3.5354e-01,  ..., -1.9248e-01,\n",
      "           -1.7637e-01, -4.0185e-01],\n",
      "          [-4.3407e-01, -5.1460e-01, -1.4416e-01,  ..., -1.1749e+00,\n",
      "           -1.1266e+00, -9.1724e-01]],\n",
      "\n",
      "         [[-1.1791e-01, -1.1791e-01, -8.7930e-02,  ..., -1.6620e+00,\n",
      "           -1.1823e+00, -8.5249e-01],\n",
      "          [-1.2973e-02,  2.0180e-03,  1.7009e-02,  ..., -1.3772e+00,\n",
      "           -1.0324e+00, -1.1973e+00],\n",
      "          [ 4.6992e-02,  6.1984e-02,  7.6975e-02,  ..., -1.1523e+00,\n",
      "           -1.1523e+00, -1.3772e+00],\n",
      "          ...,\n",
      "          [-5.0769e-01, -6.1263e-01, -6.8759e-01,  ...,  6.1667e-01,\n",
      "            4.9673e-01,  2.4188e-01],\n",
      "          [-5.9764e-01, -7.3256e-01, -6.7260e-01,  ..., -2.2285e-01,\n",
      "           -2.5284e-01, -4.7771e-01],\n",
      "          [-7.4755e-01, -8.2251e-01, -4.7771e-01,  ..., -1.3022e+00,\n",
      "           -1.2872e+00, -1.1223e+00]]]])\n",
      "tensor(6.4422, device='cuda:0') 0.4326771808086818 <torch.utils.data.dataloader.DataLoader object at 0x7fa69a018940>\n"
     ]
    }
   ],
   "source": [
    "GIA_result_generator_list= GIA_result_generator\n",
    "i_list, score_list, GIA_result_list = zip(*GIA_result_generator_list)\n"
   ]
  },
  {
   "cell_type": "code",
   "execution_count": null,
   "id": "3779a2b2",
   "metadata": {},
   "outputs": [],
   "source": [
    "# Will collect all None-valued intermediate GIAResults and merge them into one GIAResults \n",
    "GIAResults = GIAResults.collect_generator_results(GIA_result_generator)"
   ]
  },
  {
   "cell_type": "markdown",
   "id": "645e8caa",
   "metadata": {},
   "source": [
    "### Membership Inference Attack, CIFAR example"
   ]
  },
  {
   "cell_type": "code",
   "execution_count": null,
   "id": "d38d6aa1",
   "metadata": {},
   "outputs": [],
   "source": [
    "# import os\n",
    "# import sys\n",
    "# import yaml\n",
    "\n",
    "# project_root = os.path.abspath(os.path.join(os.getcwd(), \"../../..\"))\n",
    "# sys.path.append(project_root)"
   ]
  },
  {
   "cell_type": "code",
   "execution_count": null,
   "id": "a45a0d6b",
   "metadata": {},
   "outputs": [],
   "source": [
    "# from mia_utils.utils.cifar_data_preparation import get_cifar_dataloader\n",
    "# from mia_utils.utils.cifar_model_preparation import ResNet18, create_trained_model_and_metadata\n",
    "\n",
    "\n",
    "# # Load the config.yaml file\n",
    "# with open('mia_utils/train_config.yaml', 'r') as file:\n",
    "#     train_config = yaml.safe_load(file)\n",
    "\n",
    "# # Generate the dataset and dataloaders\n",
    "# path = os.path.join(os.getcwd(), train_config[\"data\"][\"data_dir\"])\n",
    "\n",
    "# train_loader, test_loader = get_cifar_dataloader(path, train_config)"
   ]
  },
  {
   "cell_type": "code",
   "execution_count": null,
   "id": "4cda80cf",
   "metadata": {},
   "outputs": [],
   "source": [
    "# # Train the model\n",
    "# if not os.path.exists(\"target\"):\n",
    "#     os.makedirs(\"target\")\n",
    "# if train_config[\"data\"][\"dataset\"] == \"cifar10\":\n",
    "#     num_classes = 10\n",
    "# elif train_config[\"data\"][\"dataset\"] == \"cifar100\":\n",
    "#     num_classes = 100\n",
    "# else:\n",
    "#     raise ValueError(\"Invalid dataset name\")\n",
    "\n",
    "# model = ResNet18(num_classes = num_classes)\n",
    "# train_acc, train_loss, test_acc, test_loss = create_trained_model_and_metadata(model, \n",
    "#                                                                                train_loader, \n",
    "#                                                                                test_loader, \n",
    "#                                                                                train_config)"
   ]
  },
  {
   "cell_type": "markdown",
   "id": "0872bf51",
   "metadata": {},
   "source": [
    "##### Run the MIA attack"
   ]
  },
  {
   "cell_type": "code",
   "execution_count": null,
   "id": "f28eb14f",
   "metadata": {},
   "outputs": [],
   "source": [
    "# from mia_utils.cifar_handler import CifarInputHandler\n",
    "\n",
    "# from leakpro import LeakPro\n",
    "\n",
    "# # Read the config file\n",
    "# config_path = \"mia_utils/audit.yaml\"\n",
    "\n",
    "# # Prepare leakpro object\n",
    "# leakpro = LeakPro(CifarInputHandler, config_path)\n",
    "\n",
    "# # Run the audit \n",
    "# mia_results = leakpro.run_audit(return_results=True)"
   ]
  },
  {
   "cell_type": "code",
   "execution_count": null,
   "id": "373dcc8a",
   "metadata": {},
   "outputs": [
    {
     "name": "stderr",
     "output_type": "stream",
     "text": [
      "2024-12-18 01:00:10,883 INFO     Initializing report handler...\n",
      "2024-12-18 01:00:10,885 INFO     report_dir set to: ./leakpro_output/results\n"
     ]
    }
   ],
   "source": [
    "# Import and initialize ReportHandler\n",
    "from leakpro.reporting.report_handler import ReportHandler\n",
    "\n",
    "# Set report_dir to \"./leakpro_output/results\" to the results to a local results folder\n",
    "#    or don't use the report_dir argument to let the ReportHandler find an already\n",
    "#    existing results folder\n",
    "report_handler = ReportHandler(report_dir=\"./leakpro_output/results\")\n",
    "\n",
    "# Save Synthetic results using the ReportHandler\n",
    "report_handler.save_results(attack_name=\"singling_out\", result_data=sin_out_res)\n",
    "report_handler.save_results(attack_name=\"linkability_risk\", result_data=link_res)\n",
    "report_handler.save_results(attack_name=\"inference_risk_base\", result_data=inf_res)\n",
    "report_handler.save_results(attack_name=\"inference_risk_worst\", result_data=inf_res_worst)\n",
    "\n",
    "# Save GIA results using report handler\n",
    "report_handler.save_results(attack_name=\"gia\", result_data=GIA_result)\n",
    "\n",
    "# Save MIA resuls using report handler\n",
    "for res in mia_results:\n",
    "    report_handler.save_results(attack_name=res.attack_name, result_data=res, config=res.configs)"
   ]
  },
  {
   "cell_type": "code",
   "execution_count": 2,
   "id": "1d91c7e0",
   "metadata": {},
   "outputs": [
    {
     "name": "stderr",
     "output_type": "stream",
     "text": [
      "2024-12-18 01:00:22,740 INFO     No results of type GIAResults found.\n",
      "2024-12-18 01:00:22,743 INFO     No results of type SinglingOutResults found.\n",
      "2024-12-18 01:00:22,744 INFO     No results of type InferenceResults found.\n",
      "2024-12-18 01:00:22,745 INFO     No results of type LinkabilityResults found.\n",
      "2024-12-18 01:00:31,133 INFO     PDF compiled\n"
     ]
    },
    {
     "data": {
      "text/plain": [
       "<Figure size 640x480 with 0 Axes>"
      ]
     },
     "metadata": {},
     "output_type": "display_data"
    }
   ],
   "source": [
    "# Simply create a report by collecting and compiling latex text\n",
    "report_handler.create_report()"
   ]
  },
  {
   "cell_type": "code",
   "execution_count": null,
   "id": "553f64d5",
   "metadata": {},
   "outputs": [
    {
     "name": "stderr",
     "output_type": "stream",
     "text": [
      "2024-12-18 01:00:42,989 INFO     No results of type GIAResults found.\n",
      "2024-12-18 01:00:42,992 INFO     No results of type SinglingOutResults found.\n",
      "2024-12-18 01:00:42,993 INFO     No results of type InferenceResults found.\n",
      "2024-12-18 01:00:42,994 INFO     No results of type LinkabilityResults found.\n",
      "2024-12-18 01:00:51,396 INFO     PDF compiled\n"
     ]
    },
    {
     "data": {
      "text/plain": [
       "<Figure size 640x480 with 0 Axes>"
      ]
     },
     "metadata": {},
     "output_type": "display_data"
    }
   ],
   "source": [
    "#### Have more granular control\n",
    "\n",
    "# Use the ReportHandler and load all the saved results\n",
    "report_handler.load_results()\n",
    "\n",
    "# Create results and collect corresponding latex texts. Use different methods to create results for a specific type\n",
    "# report_handler.create_results_mia()\n",
    "# report_handler.create_results_gia()\n",
    "# report_handler.create_results_syn()\n",
    "report_handler.create_results_all()\n",
    "\n",
    "# Create the report by compiling the latex text\n",
    "report_handler.create_report()"
   ]
  }
 ],
 "metadata": {
  "kernelspec": {
   "display_name": "base",
   "language": "python",
   "name": "python3"
  },
  "language_info": {
   "codemirror_mode": {
    "name": "ipython",
    "version": 3
   },
   "file_extension": ".py",
   "mimetype": "text/x-python",
   "name": "python",
   "nbconvert_exporter": "python",
   "pygments_lexer": "ipython3",
   "version": "3.10.13"
  }
 },
 "nbformat": 4,
 "nbformat_minor": 5
}
