{
 "cells": [
  {
   "cell_type": "markdown",
   "id": "95d5acad-514e-4950-94a0-c80d789d9364",
   "metadata": {},
   "source": [
    "# Report handler examples"
   ]
  },
  {
   "cell_type": "markdown",
   "id": "71f5dbe9",
   "metadata": {},
   "source": [
    "Install leakpro as ``` pip install -e /path/to/leakpro ```"
   ]
  },
  {
   "cell_type": "markdown",
   "id": "68b48ce8",
   "metadata": {},
   "source": [
    "### Synthetic examples"
   ]
  },
  {
   "cell_type": "code",
   "execution_count": 1,
   "id": "bcf529c7-8bfe-49da-9889-59111ec2cd73",
   "metadata": {},
   "outputs": [
    {
     "name": "stderr",
     "output_type": "stream",
     "text": [
      "/opt/conda/lib/python3.10/site-packages/tqdm/auto.py:21: TqdmWarning: IProgress not found. Please update jupyter and ipywidgets. See https://ipywidgets.readthedocs.io/en/stable/user_install.html\n",
      "  from .autonotebook import tqdm as notebook_tqdm\n"
     ]
    }
   ],
   "source": [
    "import os\n",
    "import sys\n",
    "\n",
    "import pandas as pd\n",
    "\n",
    "sys.path.append(\"../..\")\n",
    "\n",
    "from leakpro.synthetic_data_attacks.anomalies import return_anomalies\n",
    "from leakpro.synthetic_data_attacks.inference_utils import inference_risk_evaluation\n",
    "from leakpro.synthetic_data_attacks.linkability_utils import linkability_risk_evaluation\n",
    "from leakpro.synthetic_data_attacks.singling_out_utils import singling_out_risk_evaluation\n",
    "\n",
    "#Get ori and syn\n",
    "n_samples = 100\n",
    "DATA_PATH = \"../synthetic_data/datasets/\"\n",
    "ori = pd.read_csv(os.path.join(DATA_PATH, \"adults_ori.csv\"), nrows=n_samples)\n",
    "syn = pd.read_csv(os.path.join(DATA_PATH, \"adults_syn.csv\"), nrows=n_samples)"
   ]
  },
  {
   "cell_type": "code",
   "execution_count": 2,
   "id": "c89f3738",
   "metadata": {},
   "outputs": [],
   "source": [
    "# syn_anom = return_anomalies(df=syn, n_estimators=1000, n_jobs=-1, verbose=True)\n",
    "# print(\"Syn anom shape\",syn_anom.shape)"
   ]
  },
  {
   "cell_type": "code",
   "execution_count": 3,
   "id": "ad69ece9",
   "metadata": {},
   "outputs": [],
   "source": [
    "# # Create a singling-out result\n",
    "# sin_out_res = singling_out_risk_evaluation(\n",
    "#     dataset = \"adults\",\n",
    "#     ori = ori,\n",
    "#     syn = syn_anom,\n",
    "#     n_attacks = syn_anom.shape[0]\n",
    "# )"
   ]
  },
  {
   "cell_type": "code",
   "execution_count": 4,
   "id": "7d7ffb5a",
   "metadata": {},
   "outputs": [],
   "source": [
    "# # Create linkability result\n",
    "# link_res = linkability_risk_evaluation(\n",
    "#     dataset = \"adults\",\n",
    "#     ori = ori,\n",
    "#     syn = syn_anom,\n",
    "#     n_samples = syn_anom.shape[0],\n",
    "#     n_attacks = 100\n",
    "# )"
   ]
  },
  {
   "cell_type": "code",
   "execution_count": 5,
   "id": "0a5c20e2",
   "metadata": {},
   "outputs": [],
   "source": [
    "# # # Create base-case inference result\n",
    "# inf_res = inference_risk_evaluation(\n",
    "#     dataset = \"adults\",\n",
    "#     ori = ori,\n",
    "#     syn = syn_anom,\n",
    "#     worst_case_flag = False,\n",
    "#     n_attacks = syn_anom.shape[0]\n",
    "# )\n",
    "\n",
    "# # # Create worst-case inference result\n",
    "# inf_res_worst = inference_risk_evaluation(\n",
    "#     dataset = \"adults\",\n",
    "#     ori = ori,\n",
    "#     syn = syn_anom,\n",
    "#     worst_case_flag = True,\n",
    "#     n_attacks = syn_anom.shape[0]\n",
    "# )"
   ]
  },
  {
   "cell_type": "markdown",
   "id": "0b3be474",
   "metadata": {},
   "source": [
    "### Gradient inversion example"
   ]
  },
  {
   "cell_type": "code",
   "execution_count": 17,
   "id": "35aee5a3",
   "metadata": {},
   "outputs": [
    {
     "name": "stdout",
     "output_type": "stream",
     "text": [
      "Files already downloaded and verified\n"
     ]
    },
    {
     "name": "stderr",
     "output_type": "stream",
     "text": [
      "2025-03-15 01:18:18,664 INFO     Inverting gradient initialized.\n"
     ]
    }
   ],
   "source": [
    "sys.path.append(\"../gia/inverting_cifar10_1_image/\")\n",
    "from cifar import get_cifar10_loader\n",
    "from model import ResNet\n",
    "from torchvision.models.resnet import BasicBlock\n",
    "\n",
    "from leakpro.attacks.gia_attacks.invertinggradients import InvertingConfig\n",
    "from leakpro.metrics.attack_result import GIAResults\n",
    "from leakpro.fl_utils.gia_train import train\n",
    "from leakpro.run import run_inverting\n",
    "\n",
    "model = ResNet(BasicBlock, [5, 5, 5], num_classes=10, base_width=16 * 10)\n",
    "client_dataloader, data_mean, data_std = get_cifar10_loader(num_images=1, batch_size=1, num_workers=2)\n",
    "\n",
    "# Meta train function designed to work with GIA\n",
    "train_fn = train\n",
    "\n",
    "# Baseline config\n",
    "configs = InvertingConfig()\n",
    "configs.at_iterations = 1000 # Decreased from 8000 to avoid GPU memory crash\n",
    "\n",
    "name = \"my_gia_results\"\n",
    "GIA_result_generator = run_inverting(model, client_dataloader, train_fn, data_mean, data_std, configs, experiment_name=name, save=False)"
   ]
  },
  {
   "cell_type": "code",
   "execution_count": null,
   "id": "ccb0c18c",
   "metadata": {},
   "outputs": [
    {
     "name": "stderr",
     "output_type": "stream",
     "text": [
      "2025-03-15 01:18:19,298 INFO     New best loss: 0.020030692219734192 on round: 0\n",
      "2025-03-15 01:18:19,299 INFO     Iteration 0, loss 0.020030692219734192\n",
      "/opt/conda/lib/python3.10/site-packages/torchmetrics/utilities/prints.py:70: FutureWarning: Importing `peak_signal_noise_ratio` from `torchmetrics.functional` was deprecated and will be removed in 2.0. Import `peak_signal_noise_ratio` from `torchmetrics.image` instead.\n",
      "  _future_warning(\n",
      "2025-03-15 01:18:20,109 INFO     New best loss: 0.019328497350215912 on round: 2\n",
      "2025-03-15 01:18:20,210 INFO     New best loss: 0.017963791266083717 on round: 3\n",
      "2025-03-15 01:18:20,314 INFO     New best loss: 0.017419666051864624 on round: 4\n",
      "2025-03-15 01:18:20,417 INFO     New best loss: 0.0173098836094141 on round: 5\n",
      "2025-03-15 01:18:20,523 INFO     New best loss: 0.01607261784374714 on round: 6\n",
      "2025-03-15 01:18:20,730 INFO     New best loss: 0.01593751087784767 on round: 8\n",
      "2025-03-15 01:18:20,837 INFO     New best loss: 0.015778379514813423 on round: 9\n",
      "2025-03-15 01:18:20,944 INFO     New best loss: 0.015517082996666431 on round: 10\n",
      "2025-03-15 01:18:21,050 INFO     New best loss: 0.015179846435785294 on round: 11\n",
      "2025-03-15 01:18:21,255 INFO     New best loss: 0.014682582579553127 on round: 13\n",
      "2025-03-15 01:18:21,363 INFO     New best loss: 0.014197051525115967 on round: 14\n",
      "2025-03-15 01:18:21,481 INFO     New best loss: 0.01400817185640335 on round: 15\n",
      "2025-03-15 01:18:21,582 INFO     New best loss: 0.013901488855481148 on round: 16\n",
      "2025-03-15 01:18:21,890 INFO     New best loss: 0.013847089372575283 on round: 19\n",
      "2025-03-15 01:18:22,101 INFO     New best loss: 0.013752685859799385 on round: 21\n",
      "2025-03-15 01:18:22,808 INFO     New best loss: 0.013742389157414436 on round: 28\n",
      "2025-03-15 01:18:22,898 INFO     New best loss: 0.013581933453679085 on round: 29\n",
      "2025-03-15 01:18:22,987 INFO     New best loss: 0.013426722027361393 on round: 30\n",
      "2025-03-15 01:18:23,072 INFO     New best loss: 0.01319444365799427 on round: 31\n",
      "2025-03-15 01:18:23,299 INFO     New best loss: 0.013170543126761913 on round: 34\n",
      "2025-03-15 01:18:23,749 INFO     New best loss: 0.013077809475362301 on round: 40\n",
      "2025-03-15 01:18:23,824 INFO     New best loss: 0.012920811772346497 on round: 41\n",
      "2025-03-15 01:18:23,898 INFO     New best loss: 0.012831765227019787 on round: 42\n",
      "2025-03-15 01:18:23,973 INFO     New best loss: 0.012733361683785915 on round: 43\n",
      "2025-03-15 01:18:24,134 INFO     New best loss: 0.01272132620215416 on round: 45\n",
      "2025-03-15 01:18:24,493 INFO     New best loss: 0.012439289130270481 on round: 49\n",
      "2025-03-15 01:18:25,777 INFO     New best loss: 0.012305901385843754 on round: 63\n",
      "2025-03-15 01:18:25,890 INFO     New best loss: 0.012207196094095707 on round: 64\n",
      "2025-03-15 01:18:25,998 INFO     New best loss: 0.012099787592887878 on round: 65\n",
      "2025-03-15 01:18:27,356 INFO     New best loss: 0.011979538016021252 on round: 80\n",
      "2025-03-15 01:18:27,462 INFO     New best loss: 0.011702015064656734 on round: 81\n",
      "2025-03-15 01:18:27,551 INFO     New best loss: 0.011583098210394382 on round: 82\n",
      "2025-03-15 01:18:27,888 INFO     New best loss: 0.011566384695470333 on round: 86\n",
      "2025-03-15 01:18:27,971 INFO     New best loss: 0.011276462115347385 on round: 87\n",
      "2025-03-15 01:18:28,214 INFO     New best loss: 0.011156462132930756 on round: 90\n",
      "2025-03-15 01:18:28,290 INFO     New best loss: 0.01111407857388258 on round: 91\n",
      "2025-03-15 01:18:31,692 INFO     New best loss: 0.010913027450442314 on round: 137\n",
      "2025-03-15 01:18:31,840 INFO     New best loss: 0.010750296525657177 on round: 139\n",
      "2025-03-15 01:18:31,915 INFO     New best loss: 0.010711846873164177 on round: 140\n",
      "2025-03-15 01:18:33,034 INFO     New best loss: 0.010606175288558006 on round: 155\n",
      "2025-03-15 01:18:33,333 INFO     New best loss: 0.010580820962786674 on round: 159\n",
      "2025-03-15 01:18:33,925 INFO     New best loss: 0.01055569015443325 on round: 167\n",
      "2025-03-15 01:18:33,998 INFO     New best loss: 0.010379615239799023 on round: 168\n",
      "2025-03-15 01:18:39,701 INFO     New best loss: 0.010350991040468216 on round: 245\n",
      "2025-03-15 01:18:39,776 INFO     New best loss: 0.010219799354672432 on round: 246\n",
      "2025-03-15 01:18:39,856 INFO     New best loss: 0.010142430663108826 on round: 247\n",
      "2025-03-15 01:18:39,949 INFO     New best loss: 0.009874744340777397 on round: 248\n",
      "2025-03-15 01:18:40,125 INFO     Iteration 250, loss 0.010558645240962505\n",
      "2025-03-15 01:18:41,740 INFO     New best loss: 0.009867001324892044 on round: 261\n",
      "2025-03-15 01:18:44,399 INFO     New best loss: 0.0098108584061265 on round: 293\n",
      "2025-03-15 01:18:44,484 INFO     New best loss: 0.00977068580687046 on round: 294\n",
      "2025-03-15 01:18:44,568 INFO     New best loss: 0.009623820893466473 on round: 295\n",
      "2025-03-15 01:18:44,656 INFO     New best loss: 0.009541804902255535 on round: 296\n",
      "2025-03-15 01:18:45,182 INFO     New best loss: 0.009525466710329056 on round: 302\n",
      "2025-03-15 01:18:45,331 INFO     New best loss: 0.009451912716031075 on round: 304\n",
      "2025-03-15 01:18:45,406 INFO     New best loss: 0.009237393736839294 on round: 305\n",
      "2025-03-15 01:18:45,481 INFO     New best loss: 0.009151025675237179 on round: 306\n",
      "2025-03-15 01:18:45,780 INFO     New best loss: 0.009078959003090858 on round: 310\n",
      "2025-03-15 01:18:47,204 INFO     New best loss: 0.009047229774296284 on round: 327\n",
      "2025-03-15 01:18:56,399 INFO     New best loss: 0.009026761166751385 on round: 438\n",
      "2025-03-15 01:18:56,484 INFO     New best loss: 0.00893896259367466 on round: 439\n",
      "2025-03-15 01:18:57,155 INFO     New best loss: 0.00889222789555788 on round: 447\n",
      "2025-03-15 01:18:57,748 INFO     New best loss: 0.008887155912816525 on round: 454\n",
      "2025-03-15 01:18:57,832 INFO     New best loss: 0.008886141702532768 on round: 455\n",
      "2025-03-15 01:18:58,095 INFO     New best loss: 0.008879818953573704 on round: 458\n",
      "2025-03-15 01:18:58,847 INFO     New best loss: 0.008878550492227077 on round: 467\n",
      "2025-03-15 01:18:59,677 INFO     New best loss: 0.0088014155626297 on round: 477\n",
      "2025-03-15 01:18:59,835 INFO     New best loss: 0.00877399742603302 on round: 479\n",
      "2025-03-15 01:19:00,620 INFO     New best loss: 0.008746092207729816 on round: 489\n",
      "2025-03-15 01:19:01,196 INFO     New best loss: 0.008722303435206413 on round: 496\n",
      "2025-03-15 01:19:01,278 INFO     New best loss: 0.008706805296242237 on round: 497\n",
      "2025-03-15 01:19:01,361 INFO     New best loss: 0.008656617254018784 on round: 498\n",
      "2025-03-15 01:19:01,444 INFO     New best loss: 0.00856440793722868 on round: 499\n",
      "2025-03-15 01:19:01,525 INFO     Iteration 500, loss 0.008615309372544289\n",
      "2025-03-15 01:19:02,219 INFO     New best loss: 0.008517914451658726 on round: 501\n",
      "2025-03-15 01:19:02,308 INFO     New best loss: 0.008500092662870884 on round: 502\n",
      "2025-03-15 01:19:02,392 INFO     New best loss: 0.008456937968730927 on round: 503\n",
      "2025-03-15 01:19:02,475 INFO     New best loss: 0.008380584418773651 on round: 504\n",
      "2025-03-15 01:19:03,055 INFO     New best loss: 0.008322644047439098 on round: 511\n",
      "2025-03-15 01:19:04,737 INFO     New best loss: 0.0083180982619524 on round: 531\n",
      "2025-03-15 01:19:23,029 INFO     Iteration 750, loss 0.008667271584272385\n"
     ]
    },
    {
     "name": "stdout",
     "output_type": "stream",
     "text": [
      "tensor([[[[ 0.3602,  0.4079,  0.4555,  ...,  0.1539,  0.0904,  0.0269],\n",
      "          [ 0.2967,  0.3602,  0.4714,  ...,  0.1539,  0.0745,  0.0427],\n",
      "          [ 0.2967,  0.2967,  0.3602,  ...,  0.2174,  0.1539,  0.1062],\n",
      "          ...,\n",
      "          [-1.1479, -1.1796, -1.1637,  ...,  1.9318,  1.8842,  1.8048],\n",
      "          [-1.0844, -1.1955, -1.1796,  ...,  1.8842,  1.8525,  1.8207],\n",
      "          [-1.0367, -1.0367, -1.0050,  ...,  1.6937,  1.7413,  1.7572]],\n",
      "\n",
      "         [[ 0.7256,  0.7739,  0.8222,  ...,  0.5806,  0.5162,  0.4357],\n",
      "          [ 0.6772,  0.7256,  0.8544,  ...,  0.5806,  0.5001,  0.4518],\n",
      "          [ 0.7095,  0.7095,  0.7739,  ...,  0.6450,  0.5806,  0.5162],\n",
      "          ...,\n",
      "          [-0.9656, -0.9334, -0.8850,  ...,  2.1107,  2.0624,  1.9979],\n",
      "          [-0.9011, -0.9656, -0.9011,  ...,  2.0463,  2.0140,  1.9818],\n",
      "          [-0.8850, -0.8045, -0.7240,  ...,  1.9174,  1.9657,  1.9818]],\n",
      "\n",
      "         [[ 1.2763,  1.3063,  1.3512,  ...,  1.2163,  1.1863,  1.1564],\n",
      "          [ 1.2463,  1.2913,  1.4112,  ...,  1.2163,  1.1713,  1.1713],\n",
      "          [ 1.2913,  1.2913,  1.3512,  ...,  1.2763,  1.2463,  1.2313],\n",
      "          ...,\n",
      "          [-0.5077, -0.5077, -0.4627,  ...,  2.1008,  2.0558,  1.9959],\n",
      "          [-0.4327, -0.5077, -0.4627,  ...,  2.0558,  2.0408,  2.0109],\n",
      "          [-0.3728, -0.3278, -0.2678,  ...,  2.0109,  2.0558,  2.0558]]]])\n",
      "tensor(-1.0758, device='cuda:0') 0.08415571304341044 <torch.utils.data.dataloader.DataLoader object at 0x7fa6a3a77580>\n"
     ]
    }
   ],
   "source": [
    "GIA_tuple_list = list(GIA_result_generator)\n"
   ]
  },
  {
   "cell_type": "code",
   "execution_count": null,
   "id": "248952be",
   "metadata": {},
   "outputs": [
    {
     "ename": "ValueError",
     "evalue": "not enough values to unpack (expected 3, got 0)",
     "output_type": "error",
     "traceback": [
      "\u001b[0;31m---------------------------------------------------------------------------\u001b[0m",
      "\u001b[0;31mValueError\u001b[0m                                Traceback (most recent call last)",
      "Cell \u001b[0;32mIn[19], line 2\u001b[0m\n\u001b[1;32m      1\u001b[0m GIA_result_generator_list\u001b[38;5;241m=\u001b[39m GIA_result_generator\n\u001b[0;32m----> 2\u001b[0m i_list, score_list, GIA_result_list \u001b[38;5;241m=\u001b[39m \u001b[38;5;28mzip\u001b[39m(\u001b[38;5;241m*\u001b[39mGIA_result_generator_list)\n",
      "\u001b[0;31mValueError\u001b[0m: not enough values to unpack (expected 3, got 0)"
     ]
    }
   ],
   "source": [
    "GIA_result_generator = run_inverting(model, client_dataloader, train_fn, data_mean, data_std, configs, experiment_name=name, save=False)\n",
    "i_list, score_list, GIA_result_list = zip(*GIA_result_generator)\n"
   ]
  },
  {
   "cell_type": "code",
   "execution_count": null,
   "id": "3779a2b2",
   "metadata": {},
   "outputs": [],
   "source": [
    "# Will collect all None-valued intermediate GIAResults and merge them into one GIAResults \n",
    "GIA_result_generator = run_inverting(model, client_dataloader, train_fn, data_mean, data_std, configs, experiment_name=name, save=False)\n",
    "GIAResults = GIAResults.collect_generator_results(GIA_result_generator)"
   ]
  },
  {
   "cell_type": "markdown",
   "id": "645e8caa",
   "metadata": {},
   "source": [
    "### Membership Inference Attack, CIFAR example"
   ]
  },
  {
   "cell_type": "code",
   "execution_count": null,
   "id": "d38d6aa1",
   "metadata": {},
   "outputs": [],
   "source": [
    "# import os\n",
    "# import sys\n",
    "# import yaml\n",
    "\n",
    "# project_root = os.path.abspath(os.path.join(os.getcwd(), \"../../..\"))\n",
    "# sys.path.append(project_root)"
   ]
  },
  {
   "cell_type": "code",
   "execution_count": null,
   "id": "a45a0d6b",
   "metadata": {},
   "outputs": [],
   "source": [
    "# from mia_utils.utils.cifar_data_preparation import get_cifar_dataloader\n",
    "# from mia_utils.utils.cifar_model_preparation import ResNet18, create_trained_model_and_metadata\n",
    "\n",
    "\n",
    "# # Load the config.yaml file\n",
    "# with open('mia_utils/train_config.yaml', 'r') as file:\n",
    "#     train_config = yaml.safe_load(file)\n",
    "\n",
    "# # Generate the dataset and dataloaders\n",
    "# path = os.path.join(os.getcwd(), train_config[\"data\"][\"data_dir\"])\n",
    "\n",
    "# train_loader, test_loader = get_cifar_dataloader(path, train_config)"
   ]
  },
  {
   "cell_type": "code",
   "execution_count": null,
   "id": "4cda80cf",
   "metadata": {},
   "outputs": [],
   "source": [
    "# # Train the model\n",
    "# if not os.path.exists(\"target\"):\n",
    "#     os.makedirs(\"target\")\n",
    "# if train_config[\"data\"][\"dataset\"] == \"cifar10\":\n",
    "#     num_classes = 10\n",
    "# elif train_config[\"data\"][\"dataset\"] == \"cifar100\":\n",
    "#     num_classes = 100\n",
    "# else:\n",
    "#     raise ValueError(\"Invalid dataset name\")\n",
    "\n",
    "# model = ResNet18(num_classes = num_classes)\n",
    "# train_acc, train_loss, test_acc, test_loss = create_trained_model_and_metadata(model, \n",
    "#                                                                                train_loader, \n",
    "#                                                                                test_loader, \n",
    "#                                                                                train_config)"
   ]
  },
  {
   "cell_type": "markdown",
   "id": "0872bf51",
   "metadata": {},
   "source": [
    "##### Run the MIA attack"
   ]
  },
  {
   "cell_type": "code",
   "execution_count": null,
   "id": "f28eb14f",
   "metadata": {},
   "outputs": [],
   "source": [
    "# from mia_utils.cifar_handler import CifarInputHandler\n",
    "\n",
    "# from leakpro import LeakPro\n",
    "\n",
    "# # Read the config file\n",
    "# config_path = \"mia_utils/audit.yaml\"\n",
    "\n",
    "# # Prepare leakpro object\n",
    "# leakpro = LeakPro(CifarInputHandler, config_path)\n",
    "\n",
    "# # Run the audit \n",
    "# mia_results = leakpro.run_audit(return_results=True)"
   ]
  },
  {
   "cell_type": "code",
   "execution_count": null,
   "id": "373dcc8a",
   "metadata": {},
   "outputs": [
    {
     "name": "stderr",
     "output_type": "stream",
     "text": [
      "2024-12-18 01:00:10,883 INFO     Initializing report handler...\n",
      "2024-12-18 01:00:10,885 INFO     report_dir set to: ./leakpro_output/results\n"
     ]
    }
   ],
   "source": [
    "# Import and initialize ReportHandler\n",
    "from leakpro.reporting.report_handler import ReportHandler\n",
    "\n",
    "# Set report_dir to \"./leakpro_output/results\" to the results to a local results folder\n",
    "#    or don't use the report_dir argument to let the ReportHandler find an already\n",
    "#    existing results folder\n",
    "report_handler = ReportHandler(report_dir=\"./leakpro_output/results\")\n",
    "\n",
    "# Save Synthetic results using the ReportHandler\n",
    "report_handler.save_results(attack_name=\"singling_out\", result_data=sin_out_res)\n",
    "report_handler.save_results(attack_name=\"linkability_risk\", result_data=link_res)\n",
    "report_handler.save_results(attack_name=\"inference_risk_base\", result_data=inf_res)\n",
    "report_handler.save_results(attack_name=\"inference_risk_worst\", result_data=inf_res_worst)\n",
    "\n",
    "# Save GIA results using report handler\n",
    "report_handler.save_results(attack_name=\"gia\", result_data=GIA_result)\n",
    "\n",
    "# Save MIA resuls using report handler\n",
    "for res in mia_results:\n",
    "    report_handler.save_results(attack_name=res.attack_name, result_data=res, config=res.configs)"
   ]
  },
  {
   "cell_type": "code",
   "execution_count": 2,
   "id": "1d91c7e0",
   "metadata": {},
   "outputs": [
    {
     "name": "stderr",
     "output_type": "stream",
     "text": [
      "2024-12-18 01:00:22,740 INFO     No results of type GIAResults found.\n",
      "2024-12-18 01:00:22,743 INFO     No results of type SinglingOutResults found.\n",
      "2024-12-18 01:00:22,744 INFO     No results of type InferenceResults found.\n",
      "2024-12-18 01:00:22,745 INFO     No results of type LinkabilityResults found.\n",
      "2024-12-18 01:00:31,133 INFO     PDF compiled\n"
     ]
    },
    {
     "data": {
      "text/plain": [
       "<Figure size 640x480 with 0 Axes>"
      ]
     },
     "metadata": {},
     "output_type": "display_data"
    }
   ],
   "source": [
    "# Simply create a report by collecting and compiling latex text\n",
    "report_handler.create_report()"
   ]
  },
  {
   "cell_type": "code",
   "execution_count": null,
   "id": "553f64d5",
   "metadata": {},
   "outputs": [
    {
     "name": "stderr",
     "output_type": "stream",
     "text": [
      "2024-12-18 01:00:42,989 INFO     No results of type GIAResults found.\n",
      "2024-12-18 01:00:42,992 INFO     No results of type SinglingOutResults found.\n",
      "2024-12-18 01:00:42,993 INFO     No results of type InferenceResults found.\n",
      "2024-12-18 01:00:42,994 INFO     No results of type LinkabilityResults found.\n",
      "2024-12-18 01:00:51,396 INFO     PDF compiled\n"
     ]
    },
    {
     "data": {
      "text/plain": [
       "<Figure size 640x480 with 0 Axes>"
      ]
     },
     "metadata": {},
     "output_type": "display_data"
    }
   ],
   "source": [
    "#### Have more granular control\n",
    "\n",
    "# Use the ReportHandler and load all the saved results\n",
    "report_handler.load_results()\n",
    "\n",
    "# Create results and collect corresponding latex texts. Use different methods to create results for a specific type\n",
    "# report_handler.create_results_mia()\n",
    "# report_handler.create_results_gia()\n",
    "# report_handler.create_results_syn()\n",
    "report_handler.create_results_all()\n",
    "\n",
    "# Create the report by compiling the latex text\n",
    "report_handler.create_report()"
   ]
  }
 ],
 "metadata": {
  "kernelspec": {
   "display_name": "base",
   "language": "python",
   "name": "python3"
  },
  "language_info": {
   "codemirror_mode": {
    "name": "ipython",
    "version": 3
   },
   "file_extension": ".py",
   "mimetype": "text/x-python",
   "name": "python",
   "nbconvert_exporter": "python",
   "pygments_lexer": "ipython3",
   "version": "3.10.13"
  }
 },
 "nbformat": 4,
 "nbformat_minor": 5
}
