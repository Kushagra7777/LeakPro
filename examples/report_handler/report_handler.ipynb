{
 "cells": [
  {
   "cell_type": "markdown",
   "id": "95d5acad-514e-4950-94a0-c80d789d9364",
   "metadata": {},
   "source": [
    "# Report handler examples"
   ]
  },
  {
   "cell_type": "markdown",
   "id": "71f5dbe9",
   "metadata": {},
   "source": [
    "Install leakpro as ``` pip install -e /path/to/leakpro ```"
   ]
  },
  {
   "cell_type": "markdown",
   "id": "68b48ce8",
   "metadata": {},
   "source": [
    "### Synthetic examples"
   ]
  },
  {
   "cell_type": "code",
   "execution_count": 1,
   "id": "bcf529c7-8bfe-49da-9889-59111ec2cd73",
   "metadata": {},
   "outputs": [
    {
     "name": "stderr",
     "output_type": "stream",
     "text": [
      "/opt/conda/lib/python3.10/site-packages/tqdm/auto.py:21: TqdmWarning: IProgress not found. Please update jupyter and ipywidgets. See https://ipywidgets.readthedocs.io/en/stable/user_install.html\n",
      "  from .autonotebook import tqdm as notebook_tqdm\n"
     ]
    }
   ],
   "source": [
    "import os\n",
    "import sys\n",
    "\n",
    "import pandas as pd\n",
    "\n",
    "sys.path.append(\"../..\")\n",
    "\n",
    "from leakpro.synthetic_data_attacks.anomalies import return_anomalies\n",
    "from leakpro.synthetic_data_attacks.inference_utils import inference_risk_evaluation\n",
    "from leakpro.synthetic_data_attacks.linkability_utils import linkability_risk_evaluation\n",
    "from leakpro.synthetic_data_attacks.singling_out_utils import singling_out_risk_evaluation\n",
    "\n",
    "#Get ori and syn\n",
    "n_samples = 100\n",
    "DATA_PATH = \"../synthetic_data/datasets/\"\n",
    "ori = pd.read_csv(os.path.join(DATA_PATH, \"adults_ori.csv\"), nrows=n_samples)\n",
    "syn = pd.read_csv(os.path.join(DATA_PATH, \"adults_syn.csv\"), nrows=n_samples)"
   ]
  },
  {
   "cell_type": "code",
   "execution_count": 2,
   "id": "c89f3738",
   "metadata": {},
   "outputs": [],
   "source": [
    "# syn_anom = return_anomalies(df=syn, n_estimators=1000, n_jobs=-1, verbose=True)\n",
    "# print(\"Syn anom shape\",syn_anom.shape)"
   ]
  },
  {
   "cell_type": "code",
   "execution_count": 3,
   "id": "ad69ece9",
   "metadata": {},
   "outputs": [],
   "source": [
    "# # Create a singling-out result\n",
    "# sin_out_res = singling_out_risk_evaluation(\n",
    "#     dataset = \"adults\",\n",
    "#     ori = ori,\n",
    "#     syn = syn_anom,\n",
    "#     n_attacks = syn_anom.shape[0]\n",
    "# )"
   ]
  },
  {
   "cell_type": "code",
   "execution_count": 4,
   "id": "7d7ffb5a",
   "metadata": {},
   "outputs": [],
   "source": [
    "# # Create linkability result\n",
    "# link_res = linkability_risk_evaluation(\n",
    "#     dataset = \"adults\",\n",
    "#     ori = ori,\n",
    "#     syn = syn_anom,\n",
    "#     n_samples = syn_anom.shape[0],\n",
    "#     n_attacks = 100\n",
    "# )"
   ]
  },
  {
   "cell_type": "code",
   "execution_count": 5,
   "id": "0a5c20e2",
   "metadata": {},
   "outputs": [],
   "source": [
    "# # # Create base-case inference result\n",
    "# inf_res = inference_risk_evaluation(\n",
    "#     dataset = \"adults\",\n",
    "#     ori = ori,\n",
    "#     syn = syn_anom,\n",
    "#     worst_case_flag = False,\n",
    "#     n_attacks = syn_anom.shape[0]\n",
    "# )\n",
    "\n",
    "# # # Create worst-case inference result\n",
    "# inf_res_worst = inference_risk_evaluation(\n",
    "#     dataset = \"adults\",\n",
    "#     ori = ori,\n",
    "#     syn = syn_anom,\n",
    "#     worst_case_flag = True,\n",
    "#     n_attacks = syn_anom.shape[0]\n",
    "# )"
   ]
  },
  {
   "cell_type": "markdown",
   "id": "0b3be474",
   "metadata": {},
   "source": [
    "### Gradient inversion example"
   ]
  },
  {
   "cell_type": "code",
   "execution_count": 6,
   "id": "35aee5a3",
   "metadata": {},
   "outputs": [
    {
     "name": "stdout",
     "output_type": "stream",
     "text": [
      "Files already downloaded and verified\n"
     ]
    },
    {
     "name": "stderr",
     "output_type": "stream",
     "text": [
      "2025-02-27 12:23:25,328 INFO     Inverting gradient initialized.\n"
     ]
    }
   ],
   "source": [
    "sys.path.append(\"../gia/inverting_cifar10_1_image/\")\n",
    "from cifar import get_cifar10_loader\n",
    "from model import ResNet\n",
    "from torchvision.models.resnet import BasicBlock\n",
    "\n",
    "from leakpro.attacks.gia_attacks.invertinggradients import InvertingConfig\n",
    "from leakpro.fl_utils.gia_train import train\n",
    "from leakpro.run import run_inverting\n",
    "\n",
    "model = ResNet(BasicBlock, [5, 5, 5], num_classes=10, base_width=16 * 10)\n",
    "client_dataloader, data_mean, data_std = get_cifar10_loader(num_images=1, batch_size=1, num_workers=2)\n",
    "\n",
    "# Meta train function designed to work with GIA\n",
    "train_fn = train\n",
    "\n",
    "# Baseline config\n",
    "configs = InvertingConfig()\n",
    "configs.at_iterations = 1000 # Decreased from 8000 to avoid GPU memory crash\n",
    "\n",
    "name = \"my_gia_results\"\n",
    "GIA_result = run_inverting(model, client_dataloader, train_fn, data_mean, data_std, configs, experiment_name=name, save=False)\n"
   ]
  },
  {
   "cell_type": "code",
   "execution_count": null,
   "id": "ccb0c18c",
   "metadata": {},
   "outputs": [
    {
     "name": "stderr",
     "output_type": "stream",
     "text": [
      "2025-02-27 11:29:26,515 INFO     New best loss: 0.009701349772512913 on round: 254\n",
      "2025-02-27 11:29:26,613 INFO     New best loss: 0.009662546217441559 on round: 255\n",
      "2025-02-27 11:29:26,711 INFO     New best loss: 0.009642100892961025 on round: 256\n",
      "2025-02-27 11:29:27,004 INFO     New best loss: 0.009524681605398655 on round: 259\n",
      "2025-02-27 11:29:27,102 INFO     New best loss: 0.009187320247292519 on round: 260\n",
      "2025-02-27 11:29:27,200 INFO     New best loss: 0.009185533970594406 on round: 261\n",
      "2025-02-27 11:29:27,297 INFO     New best loss: 0.009132368490099907 on round: 262\n",
      "2025-02-27 11:29:31,358 INFO     New best loss: 0.00912874098867178 on round: 305\n",
      "2025-02-27 11:29:31,454 INFO     New best loss: 0.00891946628689766 on round: 306\n",
      "2025-02-27 11:29:31,642 INFO     New best loss: 0.008729555644094944 on round: 308\n",
      "2025-02-27 11:29:31,733 INFO     New best loss: 0.008573566563427448 on round: 309\n",
      "2025-02-27 11:29:31,825 INFO     New best loss: 0.008454113267362118 on round: 310\n",
      "2025-02-27 11:29:31,916 INFO     New best loss: 0.008394323289394379 on round: 311\n",
      "2025-02-27 11:29:32,097 INFO     New best loss: 0.007966584526002407 on round: 313\n",
      "2025-02-27 11:29:32,188 INFO     New best loss: 0.007946966215968132 on round: 314\n",
      "2025-02-27 11:29:33,086 INFO     New best loss: 0.007942508906126022 on round: 324\n",
      "2025-02-27 11:29:39,439 INFO     New best loss: 0.00790826603770256 on round: 389\n",
      "2025-02-27 11:29:39,531 INFO     New best loss: 0.007906774058938026 on round: 390\n",
      "2025-02-27 11:29:39,623 INFO     New best loss: 0.007903315126895905 on round: 391\n",
      "2025-02-27 11:29:46,142 INFO     New best loss: 0.007876850664615631 on round: 464\n",
      "2025-02-27 11:29:46,324 INFO     New best loss: 0.007841264829039574 on round: 466\n",
      "2025-02-27 11:29:46,415 INFO     New best loss: 0.007739400025457144 on round: 467\n",
      "2025-02-27 11:29:46,506 INFO     New best loss: 0.007677470333874226 on round: 468\n",
      "2025-02-27 11:29:46,597 INFO     New best loss: 0.00766131654381752 on round: 469\n",
      "2025-02-27 11:29:46,778 INFO     New best loss: 0.007619532756507397 on round: 471\n",
      "2025-02-27 11:29:47,297 INFO     New best loss: 0.0076054055243730545 on round: 476\n",
      "2025-02-27 11:29:47,402 INFO     New best loss: 0.0075360252521932125 on round: 477\n",
      "2025-02-27 11:29:47,918 INFO     New best loss: 0.007384446915239096 on round: 482\n",
      "2025-02-27 11:29:48,025 INFO     New best loss: 0.007329311687499285 on round: 483\n",
      "2025-02-27 11:29:48,130 INFO     New best loss: 0.00732042919844389 on round: 484\n",
      "2025-02-27 11:29:48,235 INFO     New best loss: 0.007283890154212713 on round: 485\n",
      "2025-02-27 11:29:48,342 INFO     New best loss: 0.007171235978603363 on round: 486\n",
      "2025-02-27 11:29:48,446 INFO     New best loss: 0.0071348161436617374 on round: 487\n",
      "2025-02-27 11:29:48,553 INFO     New best loss: 0.0071125817485153675 on round: 488\n",
      "2025-02-27 11:29:48,658 INFO     New best loss: 0.007070081774145365 on round: 489\n",
      "2025-02-27 11:29:48,766 INFO     New best loss: 0.00704749021679163 on round: 490\n",
      "2025-02-27 11:29:49,183 INFO     New best loss: 0.007012497633695602 on round: 494\n",
      "2025-02-27 11:29:49,288 INFO     New best loss: 0.006998430471867323 on round: 495\n",
      "2025-02-27 11:29:49,394 INFO     New best loss: 0.006894837133586407 on round: 496\n",
      "2025-02-27 11:29:49,500 INFO     New best loss: 0.006836424116045237 on round: 497\n",
      "2025-02-27 11:29:49,604 INFO     New best loss: 0.006828614976257086 on round: 498\n",
      "2025-02-27 11:29:49,812 INFO     Iteration 500, loss 0.006931431125849485\n"
     ]
    },
    {
     "name": "stdout",
     "output_type": "stream",
     "text": [
      "(500, 0.46872286755421533, None)\n"
     ]
    }
   ],
   "source": [
    "res = next(GIA_result))"
   ]
  },
  {
   "cell_type": "code",
   "execution_count": 21,
   "id": "2ca94280",
   "metadata": {},
   "outputs": [
    {
     "data": {
      "text/plain": [
       "['__repr__',\n",
       " '__getattribute__',\n",
       " '__iter__',\n",
       " '__next__',\n",
       " '__del__',\n",
       " 'send',\n",
       " 'throw',\n",
       " 'close',\n",
       " 'gi_frame',\n",
       " 'gi_code',\n",
       " '__name__',\n",
       " '__qualname__',\n",
       " 'gi_yieldfrom',\n",
       " 'gi_running',\n",
       " '__doc__',\n",
       " '__new__',\n",
       " '__hash__',\n",
       " '__str__',\n",
       " '__setattr__',\n",
       " '__delattr__',\n",
       " '__lt__',\n",
       " '__le__',\n",
       " '__eq__',\n",
       " '__ne__',\n",
       " '__gt__',\n",
       " '__ge__',\n",
       " '__init__',\n",
       " '__reduce_ex__',\n",
       " '__reduce__',\n",
       " '__subclasshook__',\n",
       " '__init_subclass__',\n",
       " '__format__',\n",
       " '__sizeof__',\n",
       " '__dir__',\n",
       " '__class__']"
      ]
     },
     "execution_count": 21,
     "metadata": {},
     "output_type": "execute_result"
    }
   ],
   "source": [
    "GIA_result.__dir__()"
   ]
  },
  {
   "cell_type": "markdown",
   "id": "645e8caa",
   "metadata": {},
   "source": [
    "### Membership Inference Attack, CIFAR example"
   ]
  },
  {
   "cell_type": "code",
   "execution_count": null,
   "id": "d38d6aa1",
   "metadata": {},
   "outputs": [],
   "source": [
    "# import os\n",
    "# import sys\n",
    "# import yaml\n",
    "\n",
    "# project_root = os.path.abspath(os.path.join(os.getcwd(), \"../../..\"))\n",
    "# sys.path.append(project_root)"
   ]
  },
  {
   "cell_type": "code",
   "execution_count": null,
   "id": "a45a0d6b",
   "metadata": {},
   "outputs": [],
   "source": [
    "# from mia_utils.utils.cifar_data_preparation import get_cifar_dataloader\n",
    "# from mia_utils.utils.cifar_model_preparation import ResNet18, create_trained_model_and_metadata\n",
    "\n",
    "\n",
    "# # Load the config.yaml file\n",
    "# with open('mia_utils/train_config.yaml', 'r') as file:\n",
    "#     train_config = yaml.safe_load(file)\n",
    "\n",
    "# # Generate the dataset and dataloaders\n",
    "# path = os.path.join(os.getcwd(), train_config[\"data\"][\"data_dir\"])\n",
    "\n",
    "# train_loader, test_loader = get_cifar_dataloader(path, train_config)"
   ]
  },
  {
   "cell_type": "code",
   "execution_count": null,
   "id": "4cda80cf",
   "metadata": {},
   "outputs": [],
   "source": [
    "# # Train the model\n",
    "# if not os.path.exists(\"target\"):\n",
    "#     os.makedirs(\"target\")\n",
    "# if train_config[\"data\"][\"dataset\"] == \"cifar10\":\n",
    "#     num_classes = 10\n",
    "# elif train_config[\"data\"][\"dataset\"] == \"cifar100\":\n",
    "#     num_classes = 100\n",
    "# else:\n",
    "#     raise ValueError(\"Invalid dataset name\")\n",
    "\n",
    "# model = ResNet18(num_classes = num_classes)\n",
    "# train_acc, train_loss, test_acc, test_loss = create_trained_model_and_metadata(model, \n",
    "#                                                                                train_loader, \n",
    "#                                                                                test_loader, \n",
    "#                                                                                train_config)"
   ]
  },
  {
   "cell_type": "markdown",
   "id": "0872bf51",
   "metadata": {},
   "source": [
    "##### Run the MIA attack"
   ]
  },
  {
   "cell_type": "code",
   "execution_count": null,
   "id": "f28eb14f",
   "metadata": {},
   "outputs": [],
   "source": [
    "# from mia_utils.cifar_handler import CifarInputHandler\n",
    "\n",
    "# from leakpro import LeakPro\n",
    "\n",
    "# # Read the config file\n",
    "# config_path = \"mia_utils/audit.yaml\"\n",
    "\n",
    "# # Prepare leakpro object\n",
    "# leakpro = LeakPro(CifarInputHandler, config_path)\n",
    "\n",
    "# # Run the audit \n",
    "# mia_results = leakpro.run_audit(return_results=True)"
   ]
  },
  {
   "cell_type": "code",
   "execution_count": null,
   "id": "373dcc8a",
   "metadata": {},
   "outputs": [
    {
     "name": "stderr",
     "output_type": "stream",
     "text": [
      "2024-12-18 01:00:10,883 INFO     Initializing report handler...\n",
      "2024-12-18 01:00:10,885 INFO     report_dir set to: ./leakpro_output/results\n"
     ]
    }
   ],
   "source": [
    "# Import and initialize ReportHandler\n",
    "from leakpro.reporting.report_handler import ReportHandler\n",
    "\n",
    "# Set report_dir to \"./leakpro_output/results\" to the results to a local results folder\n",
    "#    or don't use the report_dir argument to let the ReportHandler find an already\n",
    "#    existing results folder\n",
    "report_handler = ReportHandler(report_dir=\"./leakpro_output/results\")\n",
    "\n",
    "# Save Synthetic results using the ReportHandler\n",
    "report_handler.save_results(attack_name=\"singling_out\", result_data=sin_out_res)\n",
    "report_handler.save_results(attack_name=\"linkability_risk\", result_data=link_res)\n",
    "report_handler.save_results(attack_name=\"inference_risk_base\", result_data=inf_res)\n",
    "report_handler.save_results(attack_name=\"inference_risk_worst\", result_data=inf_res_worst)\n",
    "\n",
    "# Save GIA results using report handler\n",
    "report_handler.save_results(attack_name=\"gia\", result_data=GIA_result)\n",
    "\n",
    "# Save MIA resuls using report handler\n",
    "for res in mia_results:\n",
    "    report_handler.save_results(attack_name=res.attack_name, result_data=res, config=res.configs)"
   ]
  },
  {
   "cell_type": "code",
   "execution_count": 2,
   "id": "1d91c7e0",
   "metadata": {},
   "outputs": [
    {
     "name": "stderr",
     "output_type": "stream",
     "text": [
      "2024-12-18 01:00:22,740 INFO     No results of type GIAResults found.\n",
      "2024-12-18 01:00:22,743 INFO     No results of type SinglingOutResults found.\n",
      "2024-12-18 01:00:22,744 INFO     No results of type InferenceResults found.\n",
      "2024-12-18 01:00:22,745 INFO     No results of type LinkabilityResults found.\n",
      "2024-12-18 01:00:31,133 INFO     PDF compiled\n"
     ]
    },
    {
     "data": {
      "text/plain": [
       "<Figure size 640x480 with 0 Axes>"
      ]
     },
     "metadata": {},
     "output_type": "display_data"
    }
   ],
   "source": [
    "# Simply create a report by collecting and compiling latex text\n",
    "report_handler.create_report()"
   ]
  },
  {
   "cell_type": "code",
   "execution_count": null,
   "id": "553f64d5",
   "metadata": {},
   "outputs": [
    {
     "name": "stderr",
     "output_type": "stream",
     "text": [
      "2024-12-18 01:00:42,989 INFO     No results of type GIAResults found.\n",
      "2024-12-18 01:00:42,992 INFO     No results of type SinglingOutResults found.\n",
      "2024-12-18 01:00:42,993 INFO     No results of type InferenceResults found.\n",
      "2024-12-18 01:00:42,994 INFO     No results of type LinkabilityResults found.\n",
      "2024-12-18 01:00:51,396 INFO     PDF compiled\n"
     ]
    },
    {
     "data": {
      "text/plain": [
       "<Figure size 640x480 with 0 Axes>"
      ]
     },
     "metadata": {},
     "output_type": "display_data"
    }
   ],
   "source": [
    "#### Have more granular control\n",
    "\n",
    "# Use the ReportHandler and load all the saved results\n",
    "report_handler.load_results()\n",
    "\n",
    "# Create results and collect corresponding latex texts. Use different methods to create results for a specific type\n",
    "# report_handler.create_results_mia()\n",
    "# report_handler.create_results_gia()\n",
    "# report_handler.create_results_syn()\n",
    "report_handler.create_results_all()\n",
    "\n",
    "# Create the report by compiling the latex text\n",
    "report_handler.create_report()"
   ]
  }
 ],
 "metadata": {
  "kernelspec": {
   "display_name": "base",
   "language": "python",
   "name": "python3"
  },
  "language_info": {
   "codemirror_mode": {
    "name": "ipython",
    "version": 3
   },
   "file_extension": ".py",
   "mimetype": "text/x-python",
   "name": "python",
   "nbconvert_exporter": "python",
   "pygments_lexer": "ipython3",
   "version": "3.10.13"
  }
 },
 "nbformat": 4,
 "nbformat_minor": 5
}
