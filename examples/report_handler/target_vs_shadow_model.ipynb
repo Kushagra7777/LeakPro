{
 "cells": [
  {
   "cell_type": "code",
   "execution_count": 5,
   "id": "bcf529c7-8bfe-49da-9889-59111ec2cd73",
   "metadata": {},
   "outputs": [],
   "source": [
    "import os\n",
    "import sys\n",
    "import yaml\n",
    "import pandas as pd\n",
    "import numpy as np\n",
    "\n",
    "sys.path.append(\"../..\")\n",
    "project_root = os.path.abspath(os.path.join(os.getcwd(), \"../../..\"))\n",
    "sys.path.append(project_root)"
   ]
  },
  {
   "cell_type": "code",
   "execution_count": 6,
   "id": "a45a0d6b",
   "metadata": {},
   "outputs": [
    {
     "name": "stdout",
     "output_type": "stream",
     "text": [
      "Files already downloaded and verified\n",
      "Files already downloaded and verified\n"
     ]
    }
   ],
   "source": [
    "from mia_utils.utils.cifar_data_preparation import get_cifar_dataloader\n",
    "from mia_utils.utils.cifar_model_preparation import ResNet18, create_trained_model_and_metadata\n",
    "\n",
    "\n",
    "# Load the config.yaml file\n",
    "with open('mia_utils/train_config.yaml', 'r') as file:\n",
    "    train_config = yaml.safe_load(file)\n",
    "\n",
    "# Generate the dataset and dataloaders\n",
    "path = os.path.join(os.getcwd(), train_config[\"data\"][\"data_dir\"])\n",
    "\n",
    "train_loader, test_loader = get_cifar_dataloader(path, train_config)"
   ]
  },
  {
   "cell_type": "code",
   "execution_count": 7,
   "id": "4cda80cf",
   "metadata": {},
   "outputs": [],
   "source": [
    "# # Train the model\n",
    "# if not os.path.exists(\"target\"):\n",
    "#     os.makedirs(\"target\")\n",
    "# if train_config[\"data\"][\"dataset\"] == \"cifar10\":\n",
    "#     num_classes = 10\n",
    "# elif train_config[\"data\"][\"dataset\"] == \"cifar100\":\n",
    "#     num_classes = 100\n",
    "# else:\n",
    "#     raise ValueError(\"Invalid dataset name\")\n",
    "# print(train_config)\n",
    "\n",
    "# train_acc_list = []\n",
    "# train_loss_list = [] \n",
    "# test_acc_list = []\n",
    "# test_loss_list = []\n",
    "\n",
    "# for _ in range(32):\n",
    "#     model = ResNet18(num_classes = num_classes)\n",
    "#     train_acc, train_loss, test_acc, test_loss = create_trained_model_and_metadata(model, \n",
    "#                                                                                 train_loader, \n",
    "#                                                                                 test_loader, \n",
    "#                                                                                 train_config)\n",
    "#     train_acc_list.append(train_acc[-1])\n",
    "#     train_loss_list.append(train_loss[-1])\n",
    "#     test_acc_list.append(test_acc[-1])\n",
    "#     test_loss_list.append(test_loss[-1])\n",
    "\n",
    "# print(train_acc_list)\n",
    "# # print(train_loss_list)\n",
    "# # print(test_acc_list)\n",
    "# # print(test_loss_list)\n",
    "# np.save(\"./target_acc.npy\", train_acc_list)"
   ]
  },
  {
   "cell_type": "code",
   "execution_count": 8,
   "id": "f28eb14f",
   "metadata": {},
   "outputs": [
    {
     "name": "stderr",
     "output_type": "stream",
     "text": [
      "2025-02-25 20:54:17,832 INFO     Target model blueprint created from ResNet18 in ./mia_utils/utils/cifar_model_preparation.py.\n",
      "2025-02-25 20:54:17,834 INFO     Loaded target model metadata from ./target/model_metadata.pkl\n",
      "2025-02-25 20:54:18,093 INFO     Loaded target model from ./target\n",
      "2025-02-25 20:54:19,001 INFO     Loaded population dataset from ./data/cifar10.pkl\n",
      "2025-02-25 20:54:19,003 INFO     Loaded population dataset from ./data/cifar10.pkl\n",
      "2025-02-25 20:54:19,004 INFO     MIA attack factory loaded.\n",
      "2025-02-25 20:54:19,005 INFO     Added attack: lira\n",
      "2025-02-25 20:54:19,006 INFO     Preparing attack: lira\n",
      "2025-02-25 20:54:19,010 WARNING  Using the same model class for shadow models as the target model.\n"
     ]
    },
    {
     "name": "stdout",
     "output_type": "stream",
     "text": [
      "crossentropyloss\n"
     ]
    },
    {
     "name": "stderr",
     "output_type": "stream",
     "text": [
      "2025-02-25 20:54:19,315 INFO     Training shadow model 0 on 30080 points\n"
     ]
    },
    {
     "name": "stdout",
     "output_type": "stream",
     "text": [
      "CrossEntropyLoss()\n",
      "CrossEntropyLoss()\n",
      "optimizer SGD (\n",
      "Parameter Group 0\n",
      "    dampening: 0\n",
      "    differentiable: False\n",
      "    foreach: None\n",
      "    lr: 0.01\n",
      "    maximize: False\n",
      "    momentum: 0.9\n",
      "    nesterov: False\n",
      "    weight_decay: 0\n",
      ")\n"
     ]
    },
    {
     "name": "stderr",
     "output_type": "stream",
     "text": [
      "Epoch 1/10: 100%|██████████| 235/235 [00:06<00:00, 38.69it/s]\n",
      "Epoch 2/10: 100%|██████████| 235/235 [00:03<00:00, 61.15it/s]\n",
      "Epoch 3/10: 100%|██████████| 235/235 [00:05<00:00, 45.49it/s]\n",
      "Epoch 4/10: 100%|██████████| 235/235 [00:06<00:00, 36.60it/s]\n",
      "Epoch 5/10: 100%|██████████| 235/235 [00:06<00:00, 38.85it/s]\n",
      "Epoch 6/10: 100%|██████████| 235/235 [00:05<00:00, 39.87it/s]\n",
      "Epoch 7/10: 100%|██████████| 235/235 [00:06<00:00, 38.11it/s]\n",
      "Epoch 8/10: 100%|██████████| 235/235 [00:06<00:00, 38.47it/s]\n",
      "Epoch 9/10: 100%|██████████| 235/235 [00:06<00:00, 39.14it/s]\n",
      "Epoch 10/10: 100%|██████████| 235/235 [00:06<00:00, 38.13it/s]\n",
      "2025-02-25 20:55:17,337 INFO     Training shadow model 0 complete\n",
      "2025-02-25 20:55:17,400 INFO     Saved shadow model 0 to ./leakpro_output/attack_objects/shadow_model\n",
      "2025-02-25 20:55:17,401 INFO     Storing metadata for shadow model 0\n",
      "2025-02-25 20:55:17,404 INFO     Metadata for shadow model 0 stored in ./leakpro_output/attack_objects/shadow_model\n",
      "2025-02-25 20:55:17,431 INFO     Loading shadow model 0\n",
      "2025-02-25 20:55:17,690 INFO     Loaded model from ./leakpro_output/attack_objects/shadow_model/shadow_model_0.pkl\n",
      "2025-02-25 20:55:17,692 INFO     Loading metadata 0\n",
      "2025-02-25 20:55:17,699 INFO     Create masks for all IN and OUT samples\n",
      "2025-02-25 20:55:17,700 INFO     Loading metadata 0\n"
     ]
    },
    {
     "ename": "ValueError",
     "evalue": "No points in the audit dataset are used for the shadow models",
     "output_type": "error",
     "traceback": [
      "\u001b[0;31m---------------------------------------------------------------------------\u001b[0m",
      "\u001b[0;31mValueError\u001b[0m                                Traceback (most recent call last)",
      "Cell \u001b[0;32mIn[8], line 12\u001b[0m\n\u001b[1;32m      9\u001b[0m leakpro \u001b[38;5;241m=\u001b[39m LeakPro(CifarInputHandler, config_path)\n\u001b[1;32m     11\u001b[0m \u001b[38;5;66;03m# Run the audit \u001b[39;00m\n\u001b[0;32m---> 12\u001b[0m mia_results \u001b[38;5;241m=\u001b[39m \u001b[43mleakpro\u001b[49m\u001b[38;5;241;43m.\u001b[39;49m\u001b[43mrun_audit\u001b[49m\u001b[43m(\u001b[49m\u001b[43mreturn_results\u001b[49m\u001b[38;5;241;43m=\u001b[39;49m\u001b[38;5;28;43;01mTrue\u001b[39;49;00m\u001b[43m)\u001b[49m\n",
      "File \u001b[0;32m/mnt/shared/henfo/LeakPro/examples/report_handler/../../leakpro/leakpro.py:130\u001b[0m, in \u001b[0;36mLeakPro.run_audit\u001b[0;34m(self, return_results)\u001b[0m\n\u001b[1;32m    128\u001b[0m \u001b[38;5;28;01mdef\u001b[39;00m \u001b[38;5;21mrun_audit\u001b[39m(\u001b[38;5;28mself\u001b[39m:Self, return_results: \u001b[38;5;28mbool\u001b[39m \u001b[38;5;241m=\u001b[39m \u001b[38;5;28;01mFalse\u001b[39;00m) \u001b[38;5;241m-\u001b[39m\u001b[38;5;241m>\u001b[39m \u001b[38;5;28;01mNone\u001b[39;00m:\n\u001b[1;32m    129\u001b[0m \u001b[38;5;250m    \u001b[39m\u001b[38;5;124;03m\"\"\"Run the audit.\"\"\"\u001b[39;00m\n\u001b[0;32m--> 130\u001b[0m     audit_results \u001b[38;5;241m=\u001b[39m \u001b[38;5;28;43mself\u001b[39;49m\u001b[38;5;241;43m.\u001b[39;49m\u001b[43mattack_scheduler\u001b[49m\u001b[38;5;241;43m.\u001b[39;49m\u001b[43mrun_attacks\u001b[49m\u001b[43m(\u001b[49m\u001b[43m)\u001b[49m\n\u001b[1;32m    131\u001b[0m     results \u001b[38;5;241m=\u001b[39m [] \u001b[38;5;28;01mif\u001b[39;00m return_results \u001b[38;5;28;01melse\u001b[39;00m \u001b[38;5;28;01mNone\u001b[39;00m\n\u001b[1;32m    133\u001b[0m     \u001b[38;5;28;01mfor\u001b[39;00m attack_name \u001b[38;5;129;01min\u001b[39;00m audit_results:\n",
      "File \u001b[0;32m/mnt/shared/henfo/LeakPro/examples/report_handler/../../leakpro/attacks/attack_scheduler.py:75\u001b[0m, in \u001b[0;36mAttackScheduler.run_attacks\u001b[0;34m(self)\u001b[0m\n\u001b[1;32m     73\u001b[0m \u001b[38;5;28;01mfor\u001b[39;00m attack, attack_type \u001b[38;5;129;01min\u001b[39;00m \u001b[38;5;28mzip\u001b[39m(\u001b[38;5;28mself\u001b[39m\u001b[38;5;241m.\u001b[39mattacks, \u001b[38;5;28mself\u001b[39m\u001b[38;5;241m.\u001b[39mattack_list):\n\u001b[1;32m     74\u001b[0m     logger\u001b[38;5;241m.\u001b[39minfo(\u001b[38;5;124mf\u001b[39m\u001b[38;5;124m\"\u001b[39m\u001b[38;5;124mPreparing attack: \u001b[39m\u001b[38;5;132;01m{\u001b[39;00mattack_type\u001b[38;5;132;01m}\u001b[39;00m\u001b[38;5;124m\"\u001b[39m)\n\u001b[0;32m---> 75\u001b[0m     \u001b[43mattack\u001b[49m\u001b[38;5;241;43m.\u001b[39;49m\u001b[43mprepare_attack\u001b[49m\u001b[43m(\u001b[49m\u001b[43m)\u001b[49m\n\u001b[1;32m     77\u001b[0m     logger\u001b[38;5;241m.\u001b[39minfo(\u001b[38;5;124mf\u001b[39m\u001b[38;5;124m\"\u001b[39m\u001b[38;5;124mRunning attack: \u001b[39m\u001b[38;5;132;01m{\u001b[39;00mattack_type\u001b[38;5;132;01m}\u001b[39;00m\u001b[38;5;124m\"\u001b[39m)\n\u001b[1;32m     79\u001b[0m     result \u001b[38;5;241m=\u001b[39m attack\u001b[38;5;241m.\u001b[39mrun_attack()\n",
      "File \u001b[0;32m/mnt/shared/henfo/LeakPro/examples/report_handler/../../leakpro/attacks/mia_attacks/lira.py:154\u001b[0m, in \u001b[0;36mAttackLiRA.prepare_attack\u001b[0;34m(self)\u001b[0m\n\u001b[1;32m    151\u001b[0m     \u001b[38;5;28;01massert\u001b[39;00m \u001b[38;5;28mlen\u001b[39m(\u001b[38;5;28mself\u001b[39m\u001b[38;5;241m.\u001b[39maudit_data_indices) \u001b[38;5;241m==\u001b[39m \u001b[38;5;28mlen\u001b[39m(\u001b[38;5;28mself\u001b[39m\u001b[38;5;241m.\u001b[39min_members) \u001b[38;5;241m+\u001b[39m \u001b[38;5;28mlen\u001b[39m(\u001b[38;5;28mself\u001b[39m\u001b[38;5;241m.\u001b[39mout_members)\n\u001b[1;32m    153\u001b[0m     \u001b[38;5;28;01mif\u001b[39;00m \u001b[38;5;28mlen\u001b[39m(\u001b[38;5;28mself\u001b[39m\u001b[38;5;241m.\u001b[39maudit_data_indices) \u001b[38;5;241m==\u001b[39m \u001b[38;5;241m0\u001b[39m:\n\u001b[0;32m--> 154\u001b[0m         \u001b[38;5;28;01mraise\u001b[39;00m \u001b[38;5;167;01mValueError\u001b[39;00m(\u001b[38;5;124m\"\u001b[39m\u001b[38;5;124mNo points in the audit dataset are used for the shadow models\u001b[39m\u001b[38;5;124m\"\u001b[39m)\n\u001b[1;32m    156\u001b[0m \u001b[38;5;28;01melse\u001b[39;00m:\n\u001b[1;32m    157\u001b[0m     \u001b[38;5;28mself\u001b[39m\u001b[38;5;241m.\u001b[39maudit_data_indices \u001b[38;5;241m=\u001b[39m \u001b[38;5;28mself\u001b[39m\u001b[38;5;241m.\u001b[39maudit_dataset[\u001b[38;5;124m\"\u001b[39m\u001b[38;5;124mdata\u001b[39m\u001b[38;5;124m\"\u001b[39m]\n",
      "\u001b[0;31mValueError\u001b[0m: No points in the audit dataset are used for the shadow models"
     ]
    }
   ],
   "source": [
    "from mia_utils.cifar_handler import CifarInputHandler\n",
    "\n",
    "from leakpro import LeakPro\n",
    "\n",
    "# Read the config file\n",
    "config_path = \"mia_utils/audit.yaml\"\n",
    "\n",
    "# Prepare leakpro object\n",
    "leakpro = LeakPro(CifarInputHandler, config_path)\n",
    "\n",
    "# Run the audit \n",
    "mia_results = leakpro.run_audit(return_results=True)"
   ]
  },
  {
   "cell_type": "code",
   "execution_count": 8,
   "id": "5333ae6b",
   "metadata": {},
   "outputs": [],
   "source": [
    "#### NEW\n",
    "sm_acc_list = [\n",
    "    0.9198, \n",
    "    0.9148, \n",
    "    0.9208, \n",
    "    0.9090, \n",
    "    0.9175, \n",
    "    0.9211, \n",
    "    0.9179, \n",
    "    0.9232, \n",
    "    0.9152, \n",
    "    0.9173, \n",
    "    0.9214, \n",
    "    0.9191, \n",
    "    0.9234, \n",
    "    0.9226, \n",
    "    0.9236, \n",
    "    0.9235, \n",
    "    0.9157, \n",
    "    0.9130, \n",
    "    0.9189, \n",
    "    0.9157, \n",
    "    0.9164, \n",
    "    0.9194, \n",
    "    0.9103, \n",
    "    0.9255, \n",
    "    0.9271, \n",
    "    0.9245, \n",
    "    0.9181, \n",
    "    0.9163, \n",
    "    0.9194, \n",
    "    0.9199, \n",
    "    0.9192, \n",
    "    0.9276, \n",
    "    0.9207, \n",
    "    0.9154, \n",
    "    0.9186, \n",
    "    0.9192, \n",
    "    0.9232, \n",
    "    0.9207, \n",
    "    0.9173, \n",
    "    0.9268\n",
    "]\n",
    "\n",
    "acc_list = [0.9292, 0.9335666666666667, 0.9263, 0.9302666666666667, 0.9302, 0.9294, 0.9287333333333333, 0.9221666666666667, 0.9244, 0.9151333333333334, 0.9243666666666667, 0.9271666666666667, 0.9251666666666667, 0.9288333333333333, 0.923, 0.9346666666666666, 0.9249666666666667, 0.9324, 0.9287333333333333, 0.9176666666666666, 0.9258333333333333, 0.9227666666666666, 0.9296, 0.9312, 0.931, 0.9193666666666667, 0.9204333333333333, 0.9212333333333333, 0.9237666666666666, 0.9220333333333334, 0.9247, 0.9273333333333333, 0.9230666666666667, 0.9250333333333334, 0.9236, 0.9225666666666666, 0.9224, 0.9292333333333334, 0.9222333333333333, 0.9318666666666666]"
   ]
  },
  {
   "cell_type": "code",
   "execution_count": null,
   "id": "a1c7a612",
   "metadata": {},
   "outputs": [],
   "source": [
    "A = {\"a\": \"sadas\", \"b\": \"jfgkfdshg\", \"c\": \"jfgkfdshg\"}\n",
    "print(A)\n",
    "\n",
    "# B = A.pop(\"b\")\n",
    "B = {k:v for k,v in A.items() if k not in (\"a\")}\n",
    "\n",
    "print(B)\n",
    "print(A)"
   ]
  },
  {
   "cell_type": "code",
   "execution_count": null,
   "id": "a9e1cef7",
   "metadata": {},
   "outputs": [],
   "source": [
    "len(acc_list)"
   ]
  },
  {
   "cell_type": "code",
   "execution_count": null,
   "id": "1c91ebfc",
   "metadata": {},
   "outputs": [],
   "source": [
    "# acc_list = [l[-1] for l in train_acc_list]\n",
    "# acc_list = train_acc_list\n",
    "# test_acc_list = [l[-1] for l in test_acc_list]\n",
    "\n",
    "print(np.mean(acc_list), np.std(acc_list))\n",
    "print(np.mean(sm_acc_list), np.std(sm_acc_list))\n",
    "\n",
    "print(np.mean(test_acc_list), np.std(test_acc_list))\n",
    "\n"
   ]
  },
  {
   "cell_type": "code",
   "execution_count": null,
   "id": "f737b350",
   "metadata": {},
   "outputs": [],
   "source": [
    "import matplotlib.pyplot as plt\n",
    "\n",
    "bins = np.linspace(0.90, 0.95, 20)\n",
    "\n",
    "plt.hist(acc_list, bins, alpha=0.5)\n",
    "plt.hist(sm_acc_list, bins, alpha=0.5)\n",
    "plt.show()"
   ]
  },
  {
   "cell_type": "code",
   "execution_count": null,
   "id": "460891fa",
   "metadata": {},
   "outputs": [],
   "source": [
    "import scipy \n",
    "scipy.stats.ttest_ind(acc_list, sm_acc_list, equal_var=False)"
   ]
  },
  {
   "cell_type": "code",
   "execution_count": 7,
   "id": "a52a8db1",
   "metadata": {},
   "outputs": [
    {
     "name": "stdout",
     "output_type": "stream",
     "text": [
      "0.9184197916666667 0.004024032487020604\n",
      "0.8967311 0.00444195\n"
     ]
    },
    {
     "data": {
      "image/png": "[encoded data removed]",
      "text/plain": [
       "<Figure size 640x480 with 1 Axes>"
      ]
     },
     "metadata": {},
     "output_type": "display_data"
    },
    {
     "name": "stdout",
     "output_type": "stream",
     "text": [
      "TtestResult(statistic=20.147620027262175, pvalue=9.41774723576566e-29, df=61.40437661029256)\n"
     ]
    }
   ],
   "source": [
    "import numpy as np \n",
    "\n",
    "sm = np.load(\"./sm_train_acc.npy\")\n",
    "# print(sm)\n",
    "\n",
    "acc = np.load(\"./target_acc.npy\")\n",
    "# print(acc)\n",
    "\n",
    "print(np.mean(acc), np.std(acc))\n",
    "print(np.mean(sm), np.std(sm))\n",
    "\n",
    "import matplotlib.pyplot as plt\n",
    "\n",
    "bins = np.linspace(0.85, 0.95, 40)\n",
    "\n",
    "plt.hist(acc, bins, alpha=0.5)\n",
    "plt.hist(sm, bins, alpha=0.5)\n",
    "plt.show()\n",
    "\n",
    "import scipy \n",
    "print(scipy.stats.ttest_ind(acc, sm, equal_var=False))"
   ]
  },
  {
   "cell_type": "code",
   "execution_count": null,
   "id": "88c976fc",
   "metadata": {},
   "outputs": [],
   "source": []
  },
  {
   "cell_type": "code",
   "execution_count": null,
   "id": "1ea93306",
   "metadata": {},
   "outputs": [],
   "source": []
  },
  {
   "cell_type": "code",
   "execution_count": null,
   "id": "7ad38443",
   "metadata": {},
   "outputs": [],
   "source": []
  },
  {
   "cell_type": "markdown",
   "id": "d0821c45",
   "metadata": {},
   "source": [
    "## Before correct shadow model inheritance"
   ]
  },
  {
   "cell_type": "code",
   "execution_count": null,
   "id": "60c74a88",
   "metadata": {},
   "outputs": [],
   "source": [
    "sm_acc_list = [0.8813 ,0.8695,0.8709,0.8715,0.8648,0.8661,0.8850,0.8630,\n",
    "               0.8681,0.8761,0.8846,0.8446,0.8226,0.8779,0.8827,0.8676,0.8796,\n",
    "               0.8799,0.8737,0.8456,0.8654,0.8844,0.8798,0.8618,0.8663,\n",
    "               0.8498,0.8711,0.8931,0.8490,0.8609,0.8668,0.8740]\n",
    "sm_loss_list = [0.34125723314095036,0.3692375723351827,0.3634859912573022,0.3602159349842275,0.37791972819795,0.3810889556369882,\n",
    "                0.33041224815744014,0.39009814530293996,0.37390256435313085,0.35251052233766994,\n",
    "                0.3296242213946711,0.4380828003299996,0.5083211598244117,0.3475922238319481,\n",
    "                0.33307770259202785,0.3744919901198529,0.34216405134251787,0.3462118466166742,\n",
    "                0.35326346571141076,0.44457647331217487,0.38304084028969426,0.3306438162605813,\n",
    "                0.34603032919954735,0.3883417835578007,0.37594985085281923,0.4288098800689616,\n",
    "                0.36661235826446653,0.30145846415073313,0.42062046343975873,0.39008328125197833,\n",
    "                0.37429897981755283,0.3558761631554745]"
   ]
  },
  {
   "cell_type": "markdown",
   "id": "4910eb77",
   "metadata": {},
   "source": [
    "![title](pre_inheritance_output.png)"
   ]
  },
  {
   "cell_type": "markdown",
   "id": "86e75c4e",
   "metadata": {},
   "source": [
    "TtestResult(statistic=17.575372513532436, pvalue=6.491870506989873e-19, df=34.90285127311654)  \n",
    "using  \"scipy.stats.ttest_ind(acc_list, sm_acc_list, equal_var=False)\""
   ]
  },
  {
   "cell_type": "markdown",
   "id": "d17b7199",
   "metadata": {},
   "source": []
  }
 ],
 "metadata": {
  "kernelspec": {
   "display_name": "base",
   "language": "python",
   "name": "python3"
  },
  "language_info": {
   "codemirror_mode": {
    "name": "ipython",
    "version": 3
   },
   "file_extension": ".py",
   "mimetype": "text/x-python",
   "name": "python",
   "nbconvert_exporter": "python",
   "pygments_lexer": "ipython3",
   "version": "3.10.13"
  }
 },
 "nbformat": 4,
 "nbformat_minor": 5
}
