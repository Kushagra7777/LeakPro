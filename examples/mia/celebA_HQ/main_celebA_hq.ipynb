{
 "cells": [
  {
   "cell_type": "markdown",
   "metadata": {},
   "source": [
    "#### Face Identity Classification\n",
    "This example illustrates MIA attacks on a face identity classfier model. The classfier is train on [CelebA Mask HQ](https://github.com/switchablenorms/CelebAMask-HQ) dataset which should be downloaded, decompressed, and placed in the ```data``` directory as follows:\n",
    "\n",
    "directory_structure:\n",
    "\n",
    "```\n",
    "data/\n",
    "    ├── train/\n",
    "    │   ├── identity 1/\n",
    "    │   ├── identity 2/\n",
    "    │   └── ...\n",
    "    └── test/\n",
    "        ├── identity 1/\n",
    "        ├── identity 2/\n",
    "        └── ...\n",
    "```\n"
   ]
  },
  {
   "cell_type": "code",
   "execution_count": 1,
   "metadata": {},
   "outputs": [
    {
     "name": "stdout",
     "output_type": "stream",
     "text": [
      "Dataset already exists.\n"
     ]
    }
   ],
   "source": [
    "import os\n",
    "\n",
    "# Path to the dataset zip file\n",
    "zip_path = \"./data/CelebA_HQ_facial_identity_dataset.zip\"\n",
    "data_folder = \"./data\"\n",
    "\n",
    "# Check if the 'data' folder exists, if not, create it\n",
    "if not os.path.exists(data_folder):\n",
    "    os.makedirs(data_folder)\n",
    "    print(\"'data' folder created.\")\n",
    "\n",
    "# Check if the file already exists\n",
    "if not os.path.exists(zip_path):\n",
    "    print(\"Dataset not found. Downloading...\")\n",
    "    !wget -O {zip_path} https://postechackr-my.sharepoint.com/:u:/g/personal/dongbinna_postech_ac_kr/ES-jbCNC6mNHhCyR4Nl1QpYBlxVOJ5YiVerhDpzmoS9ezA?download=1 \n",
    "    !unzip {zip_path} -d ./data\n",
    "    print(\"Download and extraction completed.\")\n",
    "else:\n",
    "    print(\"Dataset already exists.\")"
   ]
  },
  {
   "cell_type": "markdown",
   "metadata": {},
   "source": [
    "### Train the Identity Classifier Model"
   ]
  },
  {
   "cell_type": "code",
   "execution_count": 2,
   "metadata": {},
   "outputs": [],
   "source": [
    "import os\n",
    "import sys\n",
    "import yaml\n",
    "\n",
    "project_root = os.path.abspath(os.path.join(os.getcwd(), \"../../..\"))\n",
    "sys.path.append(project_root)"
   ]
  },
  {
   "cell_type": "code",
   "execution_count": 3,
   "metadata": {},
   "outputs": [],
   "source": [
    "# Load the config.yaml file\n",
    "with open('train_config.yaml', 'r') as file:\n",
    "    train_config = yaml.safe_load(file)\n",
    "\n",
    "# Generate the dataset and dataloaders\n",
    "path = os.path.join(os.getcwd(), train_config[\"data\"][\"data_dir\"])"
   ]
  },
  {
   "cell_type": "code",
   "execution_count": 4,
   "metadata": {},
   "outputs": [
    {
     "name": "stderr",
     "output_type": "stream",
     "text": [
      "/usr/local/lib/python3.11/dist-packages/tqdm/auto.py:21: TqdmWarning: IProgress not found. Please update jupyter and ipywidgets. See https://ipywidgets.readthedocs.io/en/stable/user_install.html\n",
      "  from .autonotebook import tqdm as notebook_tqdm\n"
     ]
    },
    {
     "name": "stdout",
     "output_type": "stream",
     "text": [
      "Save data to ./data/celeba_hq_data.pkl\n"
     ]
    }
   ],
   "source": [
    "import numpy as np\n",
    "from sklearn.model_selection import train_test_split\n",
    "import pickle\n",
    "from torch.utils.data import DataLoader, Subset\n",
    "from celebA_HQ_handler import CelebAHQInputHandler\n",
    "\n",
    "train_fraction = train_config[\"data\"][\"f_train\"]\n",
    "test_fraction = train_config[\"data\"][\"f_test\"]\n",
    "batch_size = train_config[\"train\"][\"batch_size\"]\n",
    "data_dir =  train_config[\"data\"][\"data_dir\"] + \"/celeba_hq_data.pkl\"\n",
    "dataset_name = train_config[\"data\"][\"dataset\"]\n",
    "\n",
    "if not os.path.exists(data_dir):\n",
    "    population_dataset = CelebAHQInputHandler.UserDataset.from_celebHq(config=train_config)\n",
    "    with open(data_dir, \"wb\") as file:\n",
    "        pickle.dump(population_dataset, file)\n",
    "        print(f\"Save data to {data_dir}\")\n",
    "else:\n",
    "    with open(data_dir, \"rb\") as file:\n",
    "        population_dataset = pickle.load(file)\n",
    "        print(f\"Load data from {data_dir}\")\n",
    "\n",
    "dataset_size = len(population_dataset)\n",
    "train_size = int(train_fraction * dataset_size)\n",
    "test_size = int(test_fraction * dataset_size)\n",
    "\n",
    "# Use sklearn's train_test_split to split into train and test indices\n",
    "selected_index = np.random.choice(np.arange(dataset_size), train_size + test_size, replace=False)\n",
    "train_indices, test_indices = train_test_split(selected_index, test_size=test_size)\n",
    "\n",
    "train_subset = Subset(population_dataset, train_indices)\n",
    "test_subset = Subset(population_dataset, test_indices)\n",
    "\n",
    "train_loader = DataLoader(train_subset, batch_size =batch_size, shuffle=True)\n",
    "test_loader = DataLoader(test_subset, batch_size= batch_size, shuffle=False)"
   ]
  },
  {
   "cell_type": "code",
   "execution_count": 5,
   "metadata": {},
   "outputs": [
    {
     "name": "stderr",
     "output_type": "stream",
     "text": [
      "/usr/local/lib/python3.11/dist-packages/torchvision/models/_utils.py:208: UserWarning: The parameter 'pretrained' is deprecated since 0.13 and may be removed in the future, please use 'weights' instead.\n",
      "  warnings.warn(\n",
      "/usr/local/lib/python3.11/dist-packages/torchvision/models/_utils.py:223: UserWarning: Arguments other than a weight enum or `None` for 'weights' are deprecated since 0.13 and may be removed in the future. The current behavior is equivalent to passing `weights=None`.\n",
      "  warnings.warn(msg)\n",
      "Epoch 1/10: 100%|██████████| 103/103 [00:03<00:00, 31.48it/s]\n",
      "Epoch 2/10: 100%|██████████| 103/103 [00:02<00:00, 34.45it/s]\n",
      "Epoch 3/10: 100%|██████████| 103/103 [00:03<00:00, 33.80it/s]\n",
      "Epoch 4/10: 100%|██████████| 103/103 [00:02<00:00, 35.37it/s]\n",
      "Epoch 5/10: 100%|██████████| 103/103 [00:02<00:00, 34.91it/s]\n",
      "Epoch 6/10: 100%|██████████| 103/103 [00:03<00:00, 34.02it/s]\n",
      "Epoch 7/10: 100%|██████████| 103/103 [00:02<00:00, 34.99it/s]\n",
      "Epoch 8/10: 100%|██████████| 103/103 [00:02<00:00, 34.71it/s]\n",
      "Epoch 9/10: 100%|██████████| 103/103 [00:02<00:00, 36.03it/s]\n",
      "Epoch 10/10: 100%|██████████| 103/103 [00:02<00:00, 36.82it/s]\n"
     ]
    }
   ],
   "source": [
    "from torch import save, optim, nn\n",
    "from target_model_class import ResNet18\n",
    "\n",
    "num_classes = 307\n",
    "\n",
    "# Create instance of target model\n",
    "model = ResNet18(num_classes = num_classes)\n",
    "\n",
    "# Read out the relevant parameters for training\n",
    "lr = train_config[\"train\"][\"learning_rate\"]\n",
    "weight_decay = train_config[\"train\"][\"weight_decay\"]\n",
    "epochs = train_config[\"train\"][\"epochs\"]\n",
    "    \n",
    "# Create optimizer and loss function\n",
    "criterion = nn.CrossEntropyLoss()\n",
    "optimizer = optim.Adam(model.parameters(), lr=lr, weight_decay=weight_decay)\n",
    "\n",
    "# Train the target model\n",
    "train_result = CelebAHQInputHandler().train(dataloader=train_loader,\n",
    "                        model=model,\n",
    "                        criterion=criterion,\n",
    "                        optimizer=optimizer,\n",
    "                        epochs=epochs)\n",
    "\n",
    "# Evaluate on test set\n",
    "test_result = CelebAHQInputHandler().eval(test_loader, model, criterion)\n",
    "\n",
    "# Store the model and metadata\n",
    "model = train_result.model\n",
    "model.to(\"cpu\")\n",
    "with open(train_config[\"run\"][\"log_dir\"]+\"/target_model.pkl\", \"wb\") as f:\n",
    "    save(model.state_dict(), f)\n",
    "\n",
    "# Create metadata to be used by LeakPro\n",
    "from leakpro import LeakPro\n",
    "meta_data = LeakPro.make_mia_metadata(train_result = train_result,\n",
    "                                      optimizer = optimizer,\n",
    "                                      loss_fn = criterion,\n",
    "                                      dataloader = train_loader,\n",
    "                                      test_result = test_result,\n",
    "                                      epochs = epochs,\n",
    "                                      train_indices = train_indices,\n",
    "                                      test_indices = test_indices,\n",
    "                                      dataset_name = dataset_name)\n",
    "\n",
    "with open(\"target/model_metadata.pkl\", \"wb\") as f:\n",
    "    pickle.dump(meta_data, f)"
   ]
  },
  {
   "cell_type": "code",
   "execution_count": 6,
   "metadata": {},
   "outputs": [
    {
     "data": {
      "image/png": "[encoded data removed]",
      "text/plain": [
       "<Figure size 500x400 with 2 Axes>"
      ]
     },
     "metadata": {},
     "output_type": "display_data"
    }
   ],
   "source": [
    "import matplotlib.pyplot as plt\n",
    "\n",
    "train_acc = train_result.metrics.extra[\"accuracy_history\"]\n",
    "train_loss = train_result.metrics.extra[\"loss_history\"]\n",
    "test_acc = test_result.accuracy\n",
    "test_loss = test_result.loss\n",
    "\n",
    "# Plot training and test accuracy\n",
    "plt.figure(figsize=(5, 4))\n",
    "\n",
    "plt.subplot(1, 2, 1)\n",
    "plt.plot(train_acc, label='Train Accuracy')\n",
    "plt.plot(test_acc, label='Test Accuracy')\n",
    "plt.xlabel('Epoch')\n",
    "plt.ylabel('Accuracy')\n",
    "plt.title('Accuracy over Epochs')\n",
    "plt.legend()\n",
    "\n",
    "# Plot training and test loss\n",
    "plt.subplot(1, 2, 2)\n",
    "plt.plot(train_loss, label='Train Loss')\n",
    "plt.plot(test_loss, label='Test Loss')\n",
    "plt.xlabel('Epoch')\n",
    "plt.ylabel('Loss')\n",
    "plt.title('Loss over Epochs')\n",
    "plt.legend()\n",
    "\n",
    "plt.tight_layout()\n",
    "plt.show()"
   ]
  },
  {
   "cell_type": "markdown",
   "metadata": {},
   "source": [
    "### MIA Attacks on Identifier Model "
   ]
  },
  {
   "cell_type": "code",
   "execution_count": 8,
   "metadata": {},
   "outputs": [
    {
     "name": "stderr",
     "output_type": "stream",
     "text": [
      "2025-04-23 22:44:52,164 INFO     Target model blueprint created from ResNet18 in ./utils/celeb_hq_model.py.\n",
      "04/23/2025 22:44:52:INFO:Target model blueprint created from ResNet18 in ./utils/celeb_hq_model.py.\n",
      "2025-04-23 22:44:52,175 INFO     Loaded target model metadata from ./target/model_metadata.pkl\n",
      "04/23/2025 22:44:52:INFO:Loaded target model metadata from ./target/model_metadata.pkl\n"
     ]
    },
    {
     "name": "stderr",
     "output_type": "stream",
     "text": [
      "2025-04-23 22:44:52,710 INFO     Loaded target model from ./target\n",
      "04/23/2025 22:44:52:INFO:Loaded target model from ./target\n",
      "2025-04-23 22:44:57,739 INFO     Loaded population dataset from ./data/celeba_hq_data.pkl\n",
      "04/23/2025 22:44:57:INFO:Loaded population dataset from ./data/celeba_hq_data.pkl\n",
      "2025-04-23 22:44:57,744 INFO     Image extension initialized.\n",
      "04/23/2025 22:44:57:INFO:Image extension initialized.\n",
      "2025-04-23 22:44:57,746 INFO     MIA attack factory loaded.\n",
      "04/23/2025 22:44:57:INFO:MIA attack factory loaded.\n",
      "2025-04-23 22:44:57,750 INFO     Shadow model handler singleton already exists, updating state\n",
      "04/23/2025 22:44:57:INFO:Shadow model handler singleton already exists, updating state\n",
      "2025-04-23 22:44:57,879 INFO     Distillation model handler singleton already exists, updating state\n",
      "04/23/2025 22:44:57:INFO:Distillation model handler singleton already exists, updating state\n",
      "2025-04-23 22:44:58,141 INFO     Added attack: lira\n",
      "04/23/2025 22:44:58:INFO:Added attack: lira\n",
      "2025-04-23 22:44:58,152 INFO     Loaded previous results for attack: lira\n",
      "04/23/2025 22:44:58:INFO:Loaded previous results for attack: lira\n",
      "2025-04-23 22:44:58,155 INFO     Creating PDF report\n",
      "04/23/2025 22:44:58:INFO:Creating PDF report\n",
      "2025-04-23 22:44:58,157 INFO     Initializing report handler...\n",
      "04/23/2025 22:44:58:INFO:Initializing report handler...\n",
      "2025-04-23 22:44:58,160 INFO     report_dir set to: ./leakpro_output/results\n",
      "04/23/2025 22:44:58:INFO:report_dir set to: ./leakpro_output/results\n",
      "2025-04-23 22:45:03,668 INFO     No results of type GIAResults found.\n",
      "04/23/2025 22:45:03:INFO:No results of type GIAResults found.\n",
      "2025-04-23 22:45:03,670 INFO     No results of type SinglingOutResults found.\n",
      "04/23/2025 22:45:03:INFO:No results of type SinglingOutResults found.\n",
      "2025-04-23 22:45:03,672 INFO     No results of type InferenceResults found.\n",
      "04/23/2025 22:45:03:INFO:No results of type InferenceResults found.\n",
      "2025-04-23 22:45:03,673 INFO     No results of type LinkabilityResults found.\n",
      "04/23/2025 22:45:03:INFO:No results of type LinkabilityResults found.\n",
      "2025-04-23 22:45:07,909 INFO     PDF compiled\n",
      "04/23/2025 22:45:07:INFO:PDF compiled\n",
      "2025-04-23 22:45:07,911 INFO     Auditing completed\n",
      "04/23/2025 22:45:07:INFO:Auditing completed\n"
     ]
    },
    {
     "data": {
      "text/plain": [
       "<Figure size 640x480 with 0 Axes>"
      ]
     },
     "metadata": {},
     "output_type": "display_data"
    }
   ],
   "source": [
    "from leakpro import LeakPro\n",
    "\n",
    "# Read the config file\n",
    "config_path = \"audit.yaml\"\n",
    "\n",
    "# Prepare leakpro object\n",
    "leakpro = LeakPro(CelebAHQInputHandler, config_path)\n",
    "\n",
    "# Run the audit \n",
    "mia_results = leakpro.run_audit(create_pdf=True)"
   ]
  }
 ],
 "metadata": {
  "kernelspec": {
   "display_name": "Python 3",
   "language": "python",
   "name": "python3"
  },
  "language_info": {
   "codemirror_mode": {
    "name": "ipython",
    "version": 3
   },
   "file_extension": ".py",
   "mimetype": "text/x-python",
   "name": "python",
   "nbconvert_exporter": "python",
   "pygments_lexer": "ipython3",
   "version": "3.11.12"
  }
 },
 "nbformat": 4,
 "nbformat_minor": 2
}
