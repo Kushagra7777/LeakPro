{
 "cells": [
  {
   "cell_type": "markdown",
   "metadata": {},
   "source": [
    "Get the dataset and indices"
   ]
  },
  {
   "cell_type": "code",
   "execution_count": 11,
   "metadata": {},
   "outputs": [],
   "source": [
    "import os\n",
    "import sys\n",
    "\n",
    "project_root = os.path.abspath(os.path.join(os.getcwd(), \"../../..\"))\n",
    "sys.path.append(project_root)"
   ]
  },
  {
   "cell_type": "markdown",
   "metadata": {},
   "source": [
    "Load the train config"
   ]
  },
  {
   "cell_type": "code",
   "execution_count": 12,
   "metadata": {},
   "outputs": [],
   "source": [
    "import yaml\n",
    "\n",
    "with open('train_config.yaml', 'r') as file:\n",
    "    train_config = yaml.safe_load(file)\n",
    "\n",
    "use_LR = train_config['train']['training_method'] == 'LR'\n",
    "data_path = train_config['data']['data_dir']\n",
    "\n",
    "if use_LR:\n",
    "    path = data_path + \"LR_data/\"\n",
    "else:\n",
    "    path = data_path + \"GRUD_data/\"\n",
    "\n",
    "dataset_path = os.path.join(path, \"dataset.pkl\")"
   ]
  },
  {
   "cell_type": "markdown",
   "metadata": {},
   "source": [
    "This function processes ICU patient data by filtering out stays with insufficient recorded hours and selecting only the first `WINDOW_SIZE` hours. It creates a binary target variable, `los_3`, indicating whether a patient stayed in the ICU for more than three days. The function returns the filtered time-series data and the corresponding target values.  \n"
   ]
  },
  {
   "cell_type": "code",
   "execution_count": 13,
   "metadata": {},
   "outputs": [],
   "source": [
    "def preprocess_data(statics, data):\n",
    "    \"\"\"\n",
    "    Notes:\n",
    "        - Only ICU stays longer than `WINDOW_SIZE + GAP_TIME` hours are considered.\n",
    "        - `WINDOW_SIZE` defines how many initial hours of ICU stay are kept.\n",
    "        - `GAP_TIME` accounts for a buffer period before prediction.\n",
    "    \"\"\"\n",
    "    GAP_TIME = 6  # In hours\n",
    "    WINDOW_SIZE = 24  # In hours\n",
    "\n",
    "    # Define target labels\n",
    "    y = statics[statics.max_hours > WINDOW_SIZE + GAP_TIME][[\"los_icu\"]].copy()\n",
    "    y[\"los_3\"] = (y[\"los_icu\"] > 3).astype(float)\n",
    "    y.drop(columns=[\"los_icu\"], inplace=True)\n",
    "\n",
    "    # Filter data: keep only ICU stays present in y and within the first WINDOW_SIZE hours\n",
    "    data = data[\n",
    "        (data.index.get_level_values(\"icustay_id\").isin(y.index.get_level_values(\"icustay_id\"))) &\n",
    "        (data.index.get_level_values(\"hours_in\") < WINDOW_SIZE)\n",
    "    ]\n",
    "\n",
    "    return data, y"
   ]
  },
  {
   "cell_type": "code",
   "execution_count": 14,
   "metadata": {},
   "outputs": [
    {
     "name": "stdout",
     "output_type": "stream",
     "text": [
      "Creating dataset...\n",
      "Loading data...\n",
      "Flattening data for LR...\n",
      "Flattening data...\n"
     ]
    },
    {
     "name": "stderr",
     "output_type": "stream",
     "text": [
      "Flattening Index: 100%|██████████| 2/2 [00:00<00:00,  4.42it/s]\n"
     ]
    },
    {
     "name": "stdout",
     "output_type": "stream",
     "text": [
      "Creating dataset...\n",
      "Saving dataset and indices...\n",
      "Saved dataset to ./data/LR_data/dataset.pkl\n"
     ]
    }
   ],
   "source": [
    "import pandas as pd\n",
    "from torch import from_numpy\n",
    "from tqdm import tqdm\n",
    "import numpy as np\n",
    "from torch import cat, tensor\n",
    "import pickle\n",
    "from mimic_handler import MIMICInputHandler\n",
    "        \n",
    "if os.path.exists(dataset_path): \n",
    "        print(\"Loading dataset...\")\n",
    "        with open(dataset_path, \"rb\") as f:\n",
    "            dataset = pickle.load(f)  # Load the dataset\n",
    "        print(f\"Loaded dataset from {dataset_path}\")\n",
    "else:\n",
    "    print(\"Creating dataset...\")\n",
    "    data_file_path = os.path.join(data_path, \"all_hourly_data.h5\")\n",
    "    if os.path.exists(data_file_path):\n",
    "        print(\"Loading data...\")\n",
    "        data = pd.read_hdf(data_file_path, \"vitals_labs\")\n",
    "        statics = pd.read_hdf(data_file_path, \"patients\")\n",
    "\n",
    "        ID_COLS = [\"subject_id\", \"hadm_id\", \"icustay_id\"]\n",
    "        data, y = preprocess_data(statics, data)\n",
    "\n",
    "        if use_LR:\n",
    "            print(\"Flattening data for LR...\")\n",
    "            flat_data = data.pivot_table(index=ID_COLS, columns=[\"hours_in\"])\n",
    "\n",
    "            print(\"Flattening data...\")\n",
    "            data, y = [\n",
    "                df.reset_index(drop=True)\n",
    "                for df in tqdm((flat_data, y), desc=\"Flattening Index\") ]\n",
    "\n",
    "\n",
    "        assert np.issubdtype(data.values.dtype, np.number), \"Non-numeric data found in features.\"\n",
    "        assert np.issubdtype(y.values.dtype, np.number), \"Non-numeric data found in labels.\"\n",
    "\n",
    "        print(\"Creating dataset...\")\n",
    "        y_tensor = from_numpy(y.values).float()\n",
    "        \n",
    "        if use_LR:\n",
    "            data_tensor = from_numpy(data.values).float()\n",
    "            dataset = MIMICInputHandler.UserDataset(data_tensor, y_tensor)\n",
    "        else:\n",
    "            data_x = MIMICInputHandler.to_3D_tensor(data)\n",
    "            dataset = MIMICInputHandler.UserDataset(data_x, y_tensor)\n",
    "\n",
    "        os.makedirs(os.path.dirname(dataset_path), exist_ok=True)\n",
    "        # Save the dataset to dataset.pkl\n",
    "        print(\"Saving dataset and indices...\")\n",
    "        with open(dataset_path, \"wb\") as file:\n",
    "            pickle.dump(dataset, file)\n",
    "            print(f\"Saved dataset to {dataset_path}\")\n",
    "    else:\n",
    "        msg = \"Please download the MIMIC-III dataset from https://physionet.org/content/mimiciii/1.4/ and save it in the specified path.\"\n",
    "        raise FileNotFoundError(msg)\n",
    "\n"
   ]
  },
  {
   "cell_type": "code",
   "execution_count": null,
   "metadata": {},
   "outputs": [],
   "source": []
  }
 ],
 "metadata": {
  "kernelspec": {
   "display_name": "leakpro_py311",
   "language": "python",
   "name": "python3"
  },
  "language_info": {
   "codemirror_mode": {
    "name": "ipython",
    "version": 3
   },
   "file_extension": ".py",
   "mimetype": "text/x-python",
   "name": "python",
   "nbconvert_exporter": "python",
   "pygments_lexer": "ipython3",
   "version": "3.11.11"
  }
 },
 "nbformat": 4,
 "nbformat_minor": 2
}
