{
 "cells": [
  {
   "cell_type": "code",
   "execution_count": 1,
   "metadata": {},
   "outputs": [],
   "source": [
    "import os\n",
    "import sys\n",
    "import yaml\n",
    "\n",
    "from torch import zeros\n",
    "\n",
    "project_root = os.path.abspath(os.path.join(os.getcwd(), \"../../..\"))\n",
    "sys.path.append(project_root)\n",
    "\n",
    "from utils.data_processing import get_finance_dataset, split_dataset"
   ]
  },
  {
   "cell_type": "code",
   "execution_count": 2,
   "metadata": {},
   "outputs": [
    {
     "name": "stdout",
     "output_type": "stream",
     "text": [
      "Loading dataset...\n",
      "Loaded dataset from /home/fazeleh/LeakPro/examples/mia/DT/data/dataset.pkl\n"
     ]
    }
   ],
   "source": [
    "# Generate the dataset and dataloaders\n",
    "path = os.path.join(os.getcwd(), \"data/\")\n",
    "\n",
    "train_frac = 0.4\n",
    "valid_frac = 0.0\n",
    "test_frac = 0.3\n",
    "\n",
    "dataset, train_indices, validation_indices, test_indices = get_finance_dataset(path,\n",
    "                                                                            train_frac ,\n",
    "                                                                            valid_frac,\n",
    "                                                                            test_frac)"
   ]
  },
  {
   "cell_type": "code",
   "execution_count": 3,
   "metadata": {},
   "outputs": [
    {
     "name": "stdout",
     "output_type": "stream",
     "text": [
      "{0.0: 98325, 1.0: 1662}\n"
     ]
    }
   ],
   "source": [
    "import numpy as np\n",
    "unique, counts = np.unique(dataset.y, return_counts=True)\n",
    "counts_dict = dict(zip(unique, counts))\n",
    "print(counts_dict)"
   ]
  },
  {
   "cell_type": "code",
   "execution_count": 4,
   "metadata": {},
   "outputs": [
    {
     "name": "stdout",
     "output_type": "stream",
     "text": [
      "Training XGBoost model...\n"
     ]
    },
    {
     "name": "stderr",
     "output_type": "stream",
     "text": [
      "/home/fazeleh/miniconda3/envs/leakpro_py311/lib/python3.11/site-packages/xgboost/core.py:158: UserWarning: [07:54:19] WARNING: /home/conda/feedstock_root/build_artifacts/xgboost-split_1738880369036/work/src/learner.cc:740: \n",
      "Parameters: { \"use_label_encoder\" } are not used.\n",
      "\n",
      "  warnings.warn(smsg, UserWarning)\n"
     ]
    },
    {
     "name": "stdout",
     "output_type": "stream",
     "text": [
      "Training Accuracy: 0.9999, Test Accuracy: 0.9845\n"
     ]
    }
   ],
   "source": [
    "from utils.model_XGBoost import XGBoostModel, create_trained_model_and_metadata\n",
    "\n",
    "n_classes = 2\n",
    "n_estimators = 100\n",
    "\n",
    "model = XGBoostModel(n_classes, n_estimators)\n",
    "\n",
    "# Load the config.yaml file\n",
    "with open('train_config.yaml', 'r') as file:\n",
    "    train_config = yaml.safe_load(file)\n",
    "\n",
    "train_acc, test_acc = create_trained_model_and_metadata(model,\n",
    "                                                        dataset,\n",
    "                                                        train_indices,\n",
    "                                                        validation_indices,\n",
    "                                                        test_indices,\n",
    "                                                        train_config)\n"
   ]
  },
  {
   "cell_type": "markdown",
   "metadata": {},
   "source": [
    "##  Attacking the XGBoost model"
   ]
  },
  {
   "cell_type": "code",
   "execution_count": 5,
   "metadata": {},
   "outputs": [
    {
     "name": "stderr",
     "output_type": "stream",
     "text": [
      "2025-03-05 07:54:22,606 INFO     Target model blueprint created from XGBoostModel in utils/model_XGBoost.py.\n",
      "2025-03-05 07:54:22,633 INFO     Loaded target model metadata from ./target/model_metadata.pkl\n"
     ]
    },
    {
     "ename": "AttributeError",
     "evalue": "'XGBoostModel' object has no attribute 'load_state_dict'",
     "output_type": "error",
     "traceback": [
      "\u001b[0;31m---------------------------------------------------------------------------\u001b[0m",
      "\u001b[0;31mAttributeError\u001b[0m                            Traceback (most recent call last)",
      "Cell \u001b[0;32mIn[5], line 8\u001b[0m\n\u001b[1;32m      5\u001b[0m config_path \u001b[38;5;241m=\u001b[39m \u001b[38;5;124m\"\u001b[39m\u001b[38;5;124maudit.yaml\u001b[39m\u001b[38;5;124m\"\u001b[39m\n\u001b[1;32m      7\u001b[0m \u001b[38;5;66;03m# Prepare leakpro object\u001b[39;00m\n\u001b[0;32m----> 8\u001b[0m leakpro \u001b[38;5;241m=\u001b[39m \u001b[43mLeakPro\u001b[49m\u001b[43m(\u001b[49m\u001b[43mDTInputHandler\u001b[49m\u001b[43m,\u001b[49m\u001b[43m \u001b[49m\u001b[43mconfig_path\u001b[49m\u001b[43m)\u001b[49m\n\u001b[1;32m     10\u001b[0m \u001b[38;5;66;03m# Run the audit\u001b[39;00m\n\u001b[1;32m     11\u001b[0m mia_results \u001b[38;5;241m=\u001b[39m leakpro\u001b[38;5;241m.\u001b[39mrun_audit(return_results\u001b[38;5;241m=\u001b[39m\u001b[38;5;28;01mTrue\u001b[39;00m)\n",
      "File \u001b[0;32m~/LeakPro/leakpro/leakpro.py:67\u001b[0m, in \u001b[0;36mLeakPro.__init__\u001b[0;34m(self, handler_class, configs_path)\u001b[0m\n\u001b[1;32m     64\u001b[0m add_file_handler(logger, log_path)\n\u001b[1;32m     66\u001b[0m \u001b[38;5;66;03m# Initialize handler and attack scheduler\u001b[39;00m\n\u001b[0;32m---> 67\u001b[0m \u001b[38;5;28mself\u001b[39m\u001b[38;5;241m.\u001b[39mhandler \u001b[38;5;241m=\u001b[39m \u001b[38;5;28;43mself\u001b[39;49m\u001b[38;5;241;43m.\u001b[39;49m\u001b[43msetup_handler\u001b[49m\u001b[43m(\u001b[49m\u001b[43mhandler_class\u001b[49m\u001b[43m,\u001b[49m\u001b[43m \u001b[49m\u001b[43mconfigs\u001b[49m\u001b[43m)\u001b[49m\n\u001b[1;32m     69\u001b[0m \u001b[38;5;28mself\u001b[39m\u001b[38;5;241m.\u001b[39mattack_scheduler \u001b[38;5;241m=\u001b[39m AttackScheduler(\u001b[38;5;28mself\u001b[39m\u001b[38;5;241m.\u001b[39mhandler)\n",
      "File \u001b[0;32m~/LeakPro/leakpro/leakpro.py:122\u001b[0m, in \u001b[0;36mLeakPro.setup_handler\u001b[0;34m(self, handler_class, configs)\u001b[0m\n\u001b[1;32m    119\u001b[0m handler\u001b[38;5;241m.\u001b[39m_validate_target_metadata \u001b[38;5;241m=\u001b[39m types\u001b[38;5;241m.\u001b[39mMethodType(_validate_target_metadata, handler)\n\u001b[1;32m    121\u001b[0m \u001b[38;5;66;03m# Load population data, target model, and target model metadata\u001b[39;00m\n\u001b[0;32m--> 122\u001b[0m \u001b[43mhandler\u001b[49m\u001b[38;5;241;43m.\u001b[39;49m\u001b[43msetup\u001b[49m\u001b[43m(\u001b[49m\u001b[43m)\u001b[49m\n\u001b[1;32m    123\u001b[0m \u001b[38;5;28;01mif\u001b[39;00m extension_class \u001b[38;5;129;01mis\u001b[39;00m \u001b[38;5;129;01mnot\u001b[39;00m \u001b[38;5;28;01mNone\u001b[39;00m:\n\u001b[1;32m    124\u001b[0m     extension_class\u001b[38;5;241m.\u001b[39m\u001b[38;5;21m__init__\u001b[39m(handler)\n",
      "File \u001b[0;32m~/LeakPro/leakpro/input_handler/handler_setup.py:19\u001b[0m, in \u001b[0;36msetup\u001b[0;34m(self)\u001b[0m\n\u001b[1;32m     17\u001b[0m \u001b[38;5;28mself\u001b[39m\u001b[38;5;241m.\u001b[39m_load_model_class()\n\u001b[1;32m     18\u001b[0m \u001b[38;5;28mself\u001b[39m\u001b[38;5;241m.\u001b[39m_load_target_metadata()\n\u001b[0;32m---> 19\u001b[0m \u001b[38;5;28;43mself\u001b[39;49m\u001b[38;5;241;43m.\u001b[39;49m\u001b[43m_load_trained_target_model\u001b[49m\u001b[43m(\u001b[49m\u001b[43m)\u001b[49m\n\u001b[1;32m     20\u001b[0m \u001b[38;5;28mself\u001b[39m\u001b[38;5;241m.\u001b[39m_load_population()\n",
      "File \u001b[0;32m~/LeakPro/leakpro/input_handler/handler_setup.py:95\u001b[0m, in \u001b[0;36m_load_trained_target_model\u001b[0;34m(self)\u001b[0m\n\u001b[1;32m     93\u001b[0m     \u001b[38;5;28;01mwith\u001b[39;00m \u001b[38;5;28mopen\u001b[39m(\u001b[38;5;28mself\u001b[39m\u001b[38;5;241m.\u001b[39mmodel_path, \u001b[38;5;124m\"\u001b[39m\u001b[38;5;124mrb\u001b[39m\u001b[38;5;124m\"\u001b[39m) \u001b[38;5;28;01mas\u001b[39;00m f:\n\u001b[1;32m     94\u001b[0m         \u001b[38;5;28mself\u001b[39m\u001b[38;5;241m.\u001b[39mtarget_model \u001b[38;5;241m=\u001b[39m \u001b[38;5;28mself\u001b[39m\u001b[38;5;241m.\u001b[39mtarget_model_blueprint(\u001b[38;5;241m*\u001b[39m\u001b[38;5;241m*\u001b[39minit_params)\n\u001b[0;32m---> 95\u001b[0m         \u001b[38;5;28;43mself\u001b[39;49m\u001b[38;5;241;43m.\u001b[39;49m\u001b[43mtarget_model\u001b[49m\u001b[38;5;241;43m.\u001b[39;49m\u001b[43mload_state_dict\u001b[49m(torch\u001b[38;5;241m.\u001b[39mload(f))\n\u001b[1;32m     96\u001b[0m     logger\u001b[38;5;241m.\u001b[39minfo(\u001b[38;5;124mf\u001b[39m\u001b[38;5;124m\"\u001b[39m\u001b[38;5;124mLoaded target model from \u001b[39m\u001b[38;5;132;01m{\u001b[39;00mmodel_path\u001b[38;5;132;01m}\u001b[39;00m\u001b[38;5;124m\"\u001b[39m)\n\u001b[1;32m     97\u001b[0m \u001b[38;5;28;01mexcept\u001b[39;00m \u001b[38;5;167;01mFileNotFoundError\u001b[39;00m \u001b[38;5;28;01mas\u001b[39;00m e:\n",
      "\u001b[0;31mAttributeError\u001b[0m: 'XGBoostModel' object has no attribute 'load_state_dict'"
     ]
    }
   ],
   "source": [
    "from DT_handler import DTInputHandler\n",
    "from leakpro import LeakPro\n",
    "\n",
    "# Read the config file\n",
    "config_path = \"audit.yaml\"\n",
    "\n",
    "# Prepare leakpro object\n",
    "leakpro = LeakPro(DTInputHandler, config_path)\n",
    "\n",
    "# Run the audit\n",
    "mia_results = leakpro.run_audit(return_results=True)"
   ]
  },
  {
   "cell_type": "code",
   "execution_count": null,
   "metadata": {},
   "outputs": [],
   "source": []
  }
 ],
 "metadata": {
  "kernelspec": {
   "display_name": "leakpro_py311",
   "language": "python",
   "name": "python3"
  },
  "language_info": {
   "codemirror_mode": {
    "name": "ipython",
    "version": 3
   },
   "file_extension": ".py",
   "mimetype": "text/x-python",
   "name": "python",
   "nbconvert_exporter": "python",
   "pygments_lexer": "ipython3",
   "version": "3.11.11"
  }
 },
 "nbformat": 4,
 "nbformat_minor": 2
}
