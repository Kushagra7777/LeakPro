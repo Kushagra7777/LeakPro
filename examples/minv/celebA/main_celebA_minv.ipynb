{
 "cells": [
  {
   "cell_type": "markdown",
   "metadata": {},
   "source": [
    "#### Face Identity Classification\n",
    "This example illustrates Model Inversion (MINV) attacks on a face identity classfier model. The classfier is trained on [Large-scale CelebA - Aligned&Cropped](https://mmlab.ie.cuhk.edu.hk/projects/CelebA.html) dataset. Please ensure the following structure in the data folder:\n",
    "\n",
    "directory_structure:\n",
    "\n",
    "```\n",
    "data/\n",
    "    ├── private/          # Private dataset\n",
    "    │   ├── identity_1/\n",
    "    │   │   ├── instance_1.jpg\n",
    "    │   │   ├── instance_2.jpg\n",
    "    │   │   └── ...\n",
    "    │   ├── identity_2/\n",
    "    │   │   ├── instance_1.jpg\n",
    "    │   │   ├── instance_2.jpg\n",
    "    │   │   └── ...\n",
    "    │   └── ...\n",
    "    └── public/           # Public dataset\n",
    "        ├── identity_1/\n",
    "        │   ├── instance_1.jpg\n",
    "        │   ├── instance_2.jpg\n",
    "        │   └── ...\n",
    "        ├── identity_2/\n",
    "        │   ├── instance_1.jpg\n",
    "        │   ├── instance_2.jpg\n",
    "        │   └── ...\n",
    "        └── ...      \n",
    "```\n"
   ]
  },
  {
   "cell_type": "markdown",
   "metadata": {},
   "source": [
    "To prepare data for this example:\n",
    "\n",
    "1. Download CelebA images \"img_align_celeba.zip\" from this [URL](https://drive.google.com/drive/folders/0B7EVK8r0v71pTUZsaXdaSnZBZzg?resourcekey=0-rJlzl934LzC-Xp28GeIBzQ) \n",
    "2. Download CelebA identities \"identity_CelebA.txt\" from this [URL](https://drive.google.com/drive/folders/0B7EVK8r0v71pOC0wOVZlQnFfaGs?resourcekey=0-pEjrQoTrlbjZJO2UL8K_WQ)\n",
    "3. Unzip \"img_align_celeba.zip\" and place /img_align_celeba folder in examples/minv/celebA/data/\n",
    "4. Place \"identity_CelebA.txt\" in examples/minv/celebA/data/\n",
    "5. In the cell below select n classes to use, and n_private classes as private, n - n_private will be public.\n",
    "6. Run the cell below\n",
    "\n",
    "After running this, img_align_celebA folder can be removed if desired."
   ]
  },
  {
   "cell_type": "code",
   "execution_count": 1,
   "metadata": {},
   "outputs": [
    {
     "name": "stdout",
     "output_type": "stream",
     "text": [
      "10.0 percent copied\n",
      "20.0 percent copied\n",
      "30.0 percent copied\n",
      "40.0 percent copied\n",
      "50.0 percent copied\n",
      "60.0 percent copied\n",
      "70.0 percent copied\n",
      "80.0 percent copied\n",
      "90.0 percent copied\n",
      "100.0 percent copied\n"
     ]
    }
   ],
   "source": [
    "# Description: This script partitions the CelebA dataset into public and private folders based on the identity of the person in the image.\n",
    "\n",
    "import pandas as pd\n",
    "import os\n",
    "import shutil\n",
    "\n",
    "# read img_align_celeba/identity_CelebA.txt\n",
    "df = pd.read_csv('./data/identity_CelebA.txt', sep=' ', header=None)\n",
    "df.columns = ['img', 'label']\n",
    "\n",
    "# Parameters\n",
    "n = 1000 # total number of classes to take, max 10177\n",
    "n_private = 500 # number of classes to be private, max 10177 and <= n. The rest will be public\n",
    "\n",
    "# Create folders\n",
    "os.makedirs('./data', exist_ok=True)\n",
    "os.makedirs('./data/private', exist_ok=True)\n",
    "os.makedirs('./data/public', exist_ok=True)\n",
    "\n",
    "# Copy images to folders based on label\n",
    "for i in range(1,n+1):\n",
    "    if i <= n_private:\n",
    "        os.makedirs('./data/private/' + str(i), exist_ok=True)\n",
    "        for img in df[df['label'] == i]['img']:\n",
    "            shutil.copy('./data/img_align_celeba/' + img, './data/private/' + str(i) + '/' + img)\n",
    "    else:\n",
    "        os.makedirs('./data/public/' + str(i), exist_ok=True)\n",
    "        for img in df[df['label'] == i]['img']:\n",
    "            shutil.copy('./data/img_align_celeba/' + img, './data/public/' + str(i) + '/' + img)\n",
    "    if i % 100 == 0:\n",
    "        print(i / n * 100, 'percent copied')"
   ]
  },
  {
   "cell_type": "markdown",
   "metadata": {},
   "source": [
    "# Train the target model"
   ]
  },
  {
   "cell_type": "code",
   "execution_count": 2,
   "metadata": {},
   "outputs": [],
   "source": [
    "import os\n",
    "import sys\n",
    "import yaml\n",
    "\n",
    "# Path to the dataset zip file\n",
    "data_folder = \"./data\"\n",
    "\n",
    "# Path to your project root\n",
    "project_root = os.path.abspath(os.path.join(os.getcwd(), \"../../../\"))  # adjust as needed\n",
    "if project_root not in sys.path:\n",
    "    sys.path.insert(0, project_root)  # insert at the front to prioritize it"
   ]
  },
  {
   "cell_type": "code",
   "execution_count": 3,
   "metadata": {},
   "outputs": [
    {
     "name": "stderr",
     "output_type": "stream",
     "text": [
      "/home/fazeleh/miniconda3/envs/leakpro_py311/lib/python3.11/site-packages/torchvision/io/image.py:13: UserWarning: Failed to load image Python extension: '/home/fazeleh/miniconda3/envs/leakpro_py311/lib/python3.11/site-packages/torchvision/image.so: undefined symbol: _ZN3c1017RegisterOperatorsD1Ev'If you don't plan on using image functionality from `torchvision.io`, you can ignore this warning. Otherwise, there might be something wrong with your environment. Did you have `libjpeg` or `libpng` installed before building `torchvision` from source?\n",
      "  warn(\n",
      "/home/fazeleh/miniconda3/envs/leakpro_py311/lib/python3.11/site-packages/kornia/feature/lightglue.py:44: FutureWarning: `torch.cuda.amp.custom_fwd(args...)` is deprecated. Please use `torch.amp.custom_fwd(args..., device_type='cuda')` instead.\n",
      "  @torch.cuda.amp.custom_fwd(cast_inputs=torch.float32)\n"
     ]
    },
    {
     "name": "stdout",
     "output_type": "stream",
     "text": [
      "Load data from ./data/celebA_private_data.pkl\n"
     ]
    }
   ],
   "source": [
    "import pickle\n",
    "from sklearn.model_selection import train_test_split\n",
    "from torch.utils.data import  DataLoader, Subset, Dataset\n",
    "from celebA_plgmi_handler import CelebA_InputHandler\n",
    "import numpy as np\n",
    "\n",
    "# Load the config.yaml file\n",
    "with open('train_config.yaml', 'r') as file:\n",
    "    train_config = yaml.safe_load(file)\n",
    "\n",
    "train_fraction = train_config[\"data\"][\"f_train\"]\n",
    "test_fraction = train_config[\"data\"][\"f_test\"]\n",
    "batch_size = train_config[\"train\"][\"batch_size\"]\n",
    "data_dir =  train_config[\"data\"][\"data_dir\"] + \"/celebA_private_data.pkl\"\n",
    "\n",
    "if not os.path.exists(data_dir):\n",
    "    population_dataset = CelebA_InputHandler.UserDataset.from_celebA(config=train_config, subfolder='private')\n",
    "    with open(data_dir, \"wb\") as file:\n",
    "        pickle.dump(population_dataset, file)\n",
    "        print(f\"Save data to {data_dir}\")\n",
    "else:\n",
    "    with open(data_dir, \"rb\") as file:\n",
    "        population_dataset = pickle.load(file)\n",
    "        print(f\"Load data from {data_dir}\")\n",
    "\n",
    "dataset_size = len(population_dataset)\n",
    "train_size = int(train_fraction * dataset_size)\n",
    "test_size = int(test_fraction * dataset_size)\n",
    "\n",
    "# Use sklearn's train_test_split to split into train and test indices\n",
    "selected_index = np.random.choice(np.arange(dataset_size), train_size + test_size, replace=False)\n",
    "train_indices, test_indices = train_test_split(selected_index, test_size=test_size)\n",
    "\n",
    "train_subset = Subset(population_dataset, train_indices)\n",
    "test_subset = Subset(population_dataset, test_indices)\n",
    "\n",
    "train_loader = DataLoader(train_subset, batch_size =batch_size, shuffle=True)\n",
    "test_loader = DataLoader(test_subset, batch_size= batch_size, shuffle=False)\n",
    "\n",
    "num_classes = train_loader.dataset.dataset.get_classes()"
   ]
  },
  {
   "cell_type": "markdown",
   "metadata": {},
   "source": [
    "Run this cell if you want to train the model, otherwise skip this and load it in cell below public loader"
   ]
  },
  {
   "cell_type": "code",
   "execution_count": 4,
   "metadata": {},
   "outputs": [
    {
     "name": "stderr",
     "output_type": "stream",
     "text": [
      "/home/fazeleh/miniconda3/envs/leakpro_py311/lib/python3.11/site-packages/torchvision/models/_utils.py:208: UserWarning: The parameter 'pretrained' is deprecated since 0.13 and may be removed in the future, please use 'weights' instead.\n",
      "  warnings.warn(\n",
      "/home/fazeleh/miniconda3/envs/leakpro_py311/lib/python3.11/site-packages/torchvision/models/_utils.py:223: UserWarning: Arguments other than a weight enum or `None` for 'weights' are deprecated since 0.13 and may be removed in the future. The current behavior is equivalent to passing `weights=None`.\n",
      "  warnings.warn(msg)\n",
      "Epoch 1/3:   7%|▋         | 11/154 [00:00<00:04, 31.34it/s]"
     ]
    },
    {
     "name": "stderr",
     "output_type": "stream",
     "text": [
      "Epoch 1/3: 100%|██████████| 154/154 [00:01<00:00, 94.63it/s] \n",
      "Epoch 2/3: 100%|██████████| 154/154 [00:01<00:00, 124.61it/s]\n",
      "Epoch 3/3: 100%|██████████| 154/154 [00:01<00:00, 124.18it/s]\n"
     ]
    }
   ],
   "source": [
    "from torch import save, optim, nn\n",
    "from celebA_plgmi_handler import CelebA_InputHandler\n",
    "from target_model_class import ResNet18\n",
    "\n",
    "\n",
    "\n",
    "num_classes = train_loader.dataset.dataset.get_classes()\n",
    "\n",
    "# Create instance of target model\n",
    "model = ResNet18(num_classes = num_classes)\n",
    "\n",
    "# Read out the relevant parameters for training\n",
    "lr = train_config[\"train\"][\"learning_rate\"]\n",
    "momentum = train_config[\"train\"][\"momentum\"]\n",
    "epochs = train_config[\"train\"][\"epochs\"]\n",
    "    \n",
    "# Create optimizer and loss function\n",
    "criterion = nn.CrossEntropyLoss()\n",
    "optimizer = optim.SGD(model.parameters(), lr=lr, momentum=momentum)\n",
    "\n",
    "# train target model\n",
    "train_result = CelebA_InputHandler().train(dataloader=train_loader,\n",
    "                            model=model,\n",
    "                            criterion=criterion,\n",
    "                            optimizer=optimizer,\n",
    "                            epochs=epochs)\n",
    "\n",
    "# Evaluate on test set\n",
    "test_result = CelebA_InputHandler().eval(test_loader, model, criterion)"
   ]
  },
  {
   "cell_type": "code",
   "execution_count": 5,
   "metadata": {},
   "outputs": [],
   "source": [
    "# Create metadata to be used by LeakPro\n",
    "from leakpro import LeakPro\n",
    "import os\n",
    "\n",
    "# Ensure the directory exists\n",
    "log_dir = train_config[\"run\"][\"log_dir\"]\n",
    "target_model_path = os.path.join(log_dir, \"target_model.pkl\")\n",
    "os.makedirs(os.path.dirname(target_model_path), exist_ok=True)  # Create the directory if it doesn't exist\n",
    "\n",
    "# Store the model and metadata\n",
    "model = train_result.model\n",
    "model.to(\"cpu\")\n",
    "with open(train_config[\"run\"][\"log_dir\"]+\"/target_model.pkl\", \"wb\") as f:\n",
    "    save(model.state_dict(), f)\n",
    "    \n",
    "dataset_name = train_config[\"data\"][\"dataset\"]\n",
    "meta_data = LeakPro.make_mia_metadata(train_result = train_result,\n",
    "                                      optimizer = optimizer,\n",
    "                                      loss_fn = criterion,\n",
    "                                      dataloader = train_loader,\n",
    "                                      test_result = test_result,\n",
    "                                      epochs = epochs,\n",
    "                                      train_indices = train_indices,\n",
    "                                      test_indices = test_indices,\n",
    "                                      dataset_name = dataset_name)\n",
    "\n",
    "with open(\"target/model_metadata.pkl\", \"wb\") as f:\n",
    "    pickle.dump(meta_data, f)"
   ]
  },
  {
   "cell_type": "code",
   "execution_count": 6,
   "metadata": {},
   "outputs": [
    {
     "data": {
      "image/png": "[encoded data removed]",
      "text/plain": [
       "<Figure size 500x400 with 2 Axes>"
      ]
     },
     "metadata": {},
     "output_type": "display_data"
    }
   ],
   "source": [
    "import matplotlib.pyplot as plt\n",
    "\n",
    "train_acc = train_result.metrics.extra[\"accuracy_history\"]\n",
    "train_loss = train_result.metrics.extra[\"loss_history\"]\n",
    "test_acc = test_result.accuracy\n",
    "test_loss = test_result.loss\n",
    "\n",
    "# Plot training and test accuracy\n",
    "plt.figure(figsize=(5, 4))\n",
    "\n",
    "plt.subplot(1, 2, 1)\n",
    "plt.plot(train_acc, label='Train Accuracy')\n",
    "plt.plot(len(train_loss)-1, test_acc, 'ro', label='Test Loss')\n",
    "plt.xlabel('Epoch')\n",
    "plt.ylabel('Accuracy')\n",
    "plt.title('Accuracy over Epochs')\n",
    "plt.legend()\n",
    "\n",
    "# Plot training and test loss\n",
    "plt.subplot(1, 2, 2)\n",
    "plt.plot(train_loss, label='Train Loss')\n",
    "plt.plot(len(train_loss)-1, test_loss, 'ro', label='Test Loss')\n",
    "plt.xlabel('Epoch')\n",
    "plt.ylabel('Loss')\n",
    "plt.title('Loss over Epochs')\n",
    "plt.legend()\n",
    "\n",
    "plt.tight_layout()\n",
    "plt.show()"
   ]
  },
  {
   "cell_type": "code",
   "execution_count": 7,
   "metadata": {},
   "outputs": [
    {
     "name": "stdout",
     "output_type": "stream",
     "text": [
      "Load data from ./data/celebA_public_data.pkl\n"
     ]
    }
   ],
   "source": [
    "# Public loader\n",
    "from examples.minv.celebA.utils.celebA_data import get_celebA_publicloader\n",
    "\n",
    "pub_loader = get_celebA_publicloader(train_config)\n"
   ]
  },
  {
   "cell_type": "code",
   "execution_count": 8,
   "metadata": {},
   "outputs": [
    {
     "name": "stderr",
     "output_type": "stream",
     "text": [
      "/tmp/ipykernel_913764/2582084071.py:10: FutureWarning: You are using `torch.load` with `weights_only=False` (the current default value), which uses the default pickle module implicitly. It is possible to construct malicious pickle data which will execute arbitrary code during unpickling (See https://github.com/pytorch/pytorch/blob/main/SECURITY.md#untrusted-models for more details). In a future release, the default value for `weights_only` will be flipped to `True`. This limits the functions that could be executed during unpickling. Arbitrary objects will no longer be allowed to be loaded via this mode unless they are explicitly allowlisted by the user via `torch.serialization.add_safe_globals`. We recommend you start setting `weights_only=True` for any use case where you don't have full control of the loaded file. Please open an issue on GitHub for any issues related to this experimental feature.\n",
      "  model.load_state_dict(torch.load('./target/target_model.pkl'))\n"
     ]
    },
    {
     "data": {
      "text/plain": [
       "ResNet18(\n",
       "  (model): ResNet(\n",
       "    (conv1): Conv2d(3, 64, kernel_size=(7, 7), stride=(2, 2), padding=(3, 3), bias=False)\n",
       "    (bn1): BatchNorm2d(64, eps=1e-05, momentum=0.1, affine=True, track_running_stats=True)\n",
       "    (relu): ReLU(inplace=True)\n",
       "    (maxpool): MaxPool2d(kernel_size=3, stride=2, padding=1, dilation=1, ceil_mode=False)\n",
       "    (layer1): Sequential(\n",
       "      (0): BasicBlock(\n",
       "        (conv1): Conv2d(64, 64, kernel_size=(3, 3), stride=(1, 1), padding=(1, 1), bias=False)\n",
       "        (bn1): BatchNorm2d(64, eps=1e-05, momentum=0.1, affine=True, track_running_stats=True)\n",
       "        (relu): ReLU(inplace=True)\n",
       "        (conv2): Conv2d(64, 64, kernel_size=(3, 3), stride=(1, 1), padding=(1, 1), bias=False)\n",
       "        (bn2): BatchNorm2d(64, eps=1e-05, momentum=0.1, affine=True, track_running_stats=True)\n",
       "      )\n",
       "      (1): BasicBlock(\n",
       "        (conv1): Conv2d(64, 64, kernel_size=(3, 3), stride=(1, 1), padding=(1, 1), bias=False)\n",
       "        (bn1): BatchNorm2d(64, eps=1e-05, momentum=0.1, affine=True, track_running_stats=True)\n",
       "        (relu): ReLU(inplace=True)\n",
       "        (conv2): Conv2d(64, 64, kernel_size=(3, 3), stride=(1, 1), padding=(1, 1), bias=False)\n",
       "        (bn2): BatchNorm2d(64, eps=1e-05, momentum=0.1, affine=True, track_running_stats=True)\n",
       "      )\n",
       "    )\n",
       "    (layer2): Sequential(\n",
       "      (0): BasicBlock(\n",
       "        (conv1): Conv2d(64, 128, kernel_size=(3, 3), stride=(2, 2), padding=(1, 1), bias=False)\n",
       "        (bn1): BatchNorm2d(128, eps=1e-05, momentum=0.1, affine=True, track_running_stats=True)\n",
       "        (relu): ReLU(inplace=True)\n",
       "        (conv2): Conv2d(128, 128, kernel_size=(3, 3), stride=(1, 1), padding=(1, 1), bias=False)\n",
       "        (bn2): BatchNorm2d(128, eps=1e-05, momentum=0.1, affine=True, track_running_stats=True)\n",
       "        (downsample): Sequential(\n",
       "          (0): Conv2d(64, 128, kernel_size=(1, 1), stride=(2, 2), bias=False)\n",
       "          (1): BatchNorm2d(128, eps=1e-05, momentum=0.1, affine=True, track_running_stats=True)\n",
       "        )\n",
       "      )\n",
       "      (1): BasicBlock(\n",
       "        (conv1): Conv2d(128, 128, kernel_size=(3, 3), stride=(1, 1), padding=(1, 1), bias=False)\n",
       "        (bn1): BatchNorm2d(128, eps=1e-05, momentum=0.1, affine=True, track_running_stats=True)\n",
       "        (relu): ReLU(inplace=True)\n",
       "        (conv2): Conv2d(128, 128, kernel_size=(3, 3), stride=(1, 1), padding=(1, 1), bias=False)\n",
       "        (bn2): BatchNorm2d(128, eps=1e-05, momentum=0.1, affine=True, track_running_stats=True)\n",
       "      )\n",
       "    )\n",
       "    (layer3): Sequential(\n",
       "      (0): BasicBlock(\n",
       "        (conv1): Conv2d(128, 256, kernel_size=(3, 3), stride=(2, 2), padding=(1, 1), bias=False)\n",
       "        (bn1): BatchNorm2d(256, eps=1e-05, momentum=0.1, affine=True, track_running_stats=True)\n",
       "        (relu): ReLU(inplace=True)\n",
       "        (conv2): Conv2d(256, 256, kernel_size=(3, 3), stride=(1, 1), padding=(1, 1), bias=False)\n",
       "        (bn2): BatchNorm2d(256, eps=1e-05, momentum=0.1, affine=True, track_running_stats=True)\n",
       "        (downsample): Sequential(\n",
       "          (0): Conv2d(128, 256, kernel_size=(1, 1), stride=(2, 2), bias=False)\n",
       "          (1): BatchNorm2d(256, eps=1e-05, momentum=0.1, affine=True, track_running_stats=True)\n",
       "        )\n",
       "      )\n",
       "      (1): BasicBlock(\n",
       "        (conv1): Conv2d(256, 256, kernel_size=(3, 3), stride=(1, 1), padding=(1, 1), bias=False)\n",
       "        (bn1): BatchNorm2d(256, eps=1e-05, momentum=0.1, affine=True, track_running_stats=True)\n",
       "        (relu): ReLU(inplace=True)\n",
       "        (conv2): Conv2d(256, 256, kernel_size=(3, 3), stride=(1, 1), padding=(1, 1), bias=False)\n",
       "        (bn2): BatchNorm2d(256, eps=1e-05, momentum=0.1, affine=True, track_running_stats=True)\n",
       "      )\n",
       "    )\n",
       "    (layer4): Sequential(\n",
       "      (0): BasicBlock(\n",
       "        (conv1): Conv2d(256, 512, kernel_size=(3, 3), stride=(2, 2), padding=(1, 1), bias=False)\n",
       "        (bn1): BatchNorm2d(512, eps=1e-05, momentum=0.1, affine=True, track_running_stats=True)\n",
       "        (relu): ReLU(inplace=True)\n",
       "        (conv2): Conv2d(512, 512, kernel_size=(3, 3), stride=(1, 1), padding=(1, 1), bias=False)\n",
       "        (bn2): BatchNorm2d(512, eps=1e-05, momentum=0.1, affine=True, track_running_stats=True)\n",
       "        (downsample): Sequential(\n",
       "          (0): Conv2d(256, 512, kernel_size=(1, 1), stride=(2, 2), bias=False)\n",
       "          (1): BatchNorm2d(512, eps=1e-05, momentum=0.1, affine=True, track_running_stats=True)\n",
       "        )\n",
       "      )\n",
       "      (1): BasicBlock(\n",
       "        (conv1): Conv2d(512, 512, kernel_size=(3, 3), stride=(1, 1), padding=(1, 1), bias=False)\n",
       "        (bn1): BatchNorm2d(512, eps=1e-05, momentum=0.1, affine=True, track_running_stats=True)\n",
       "        (relu): ReLU(inplace=True)\n",
       "        (conv2): Conv2d(512, 512, kernel_size=(3, 3), stride=(1, 1), padding=(1, 1), bias=False)\n",
       "        (bn2): BatchNorm2d(512, eps=1e-05, momentum=0.1, affine=True, track_running_stats=True)\n",
       "      )\n",
       "    )\n",
       "    (avgpool): AdaptiveAvgPool2d(output_size=(1, 1))\n",
       "    (fc): Linear(in_features=512, out_features=500, bias=True)\n",
       "  )\n",
       ")"
      ]
     },
     "execution_count": 8,
     "metadata": {},
     "output_type": "execute_result"
    }
   ],
   "source": [
    "import torch\n",
    "from torch.nn import functional as F\n",
    "import numpy as np\n",
    "from target_model_class import ResNet18\n",
    "\n",
    "# We have model_metadata.pkl and target_model.pkl. Load metadata and target model\n",
    "# Load the model\n",
    "num_classes = train_loader.dataset.dataset.get_classes()\n",
    "model = ResNet18(num_classes=num_classes)\n",
    "model.load_state_dict(torch.load('./target/target_model.pkl'))\n",
    "model.eval()\n"
   ]
  },
  {
   "cell_type": "markdown",
   "metadata": {},
   "source": [
    "Remove dis.pth and gen.pth if you want LeakPro to enter training loop. Number of iterations set to n_iter = 10 in this example.\n",
    "\n",
    "Currently, result class is not setup."
   ]
  },
  {
   "cell_type": "code",
   "execution_count": 9,
   "metadata": {},
   "outputs": [
    {
     "name": "stderr",
     "output_type": "stream",
     "text": [
      "2025-04-03 19:37:05,210 INFO     Target model blueprint created from ResNet18 in ./target_model_class.py.\n",
      "2025-04-03 19:37:05,216 INFO     Loaded target model metadata from ./target/model_metadata.pkl\n",
      "/home/fazeleh/LeakPro/leakpro/input_handler/minv_handler.py:113: FutureWarning: You are using `torch.load` with `weights_only=False` (the current default value), which uses the default pickle module implicitly. It is possible to construct malicious pickle data which will execute arbitrary code during unpickling (See https://github.com/pytorch/pytorch/blob/main/SECURITY.md#untrusted-models for more details). In a future release, the default value for `weights_only` will be flipped to `True`. This limits the functions that could be executed during unpickling. Arbitrary objects will no longer be allowed to be loaded via this mode unless they are explicitly allowlisted by the user via `torch.serialization.add_safe_globals`. We recommend you start setting `weights_only=True` for any use case where you don't have full control of the loaded file. Please open an issue on GitHub for any issues related to this experimental feature.\n",
      "  self.target_model.load_state_dict(torch.load(f))\n",
      "2025-04-03 19:37:05,465 INFO     Loaded target model from ./target\n",
      "2025-04-03 19:37:06,071 INFO     Loaded public data from ./data/celebA_public_data.pkl\n",
      "2025-04-03 19:37:06,670 INFO     Loaded private data from ./data/celebA_private_data.pkl\n",
      "2025-04-03 19:37:06,671 INFO     Image extension initialized.\n",
      "2025-04-03 19:37:06,679 INFO     MINV attack factory loaded.\n",
      "2025-04-03 19:37:06,680 INFO     Configuring PLG-MI attack\n",
      "2025-04-03 19:37:06,680 INFO     Public population is not initialized.\n",
      "2025-04-03 19:37:06,681 INFO     Failed to create attack: plgmi, supported attacks: dict_keys(['plgmi'])\n",
      "2025-04-03 19:37:06,681 INFO     Auditing completed\n"
     ]
    }
   ],
   "source": [
    "from leakpro import LeakPro\n",
    "from celebA_plgmi_handler import CelebA_InputHandler\n",
    "config_path = \"audit.yaml\"\n",
    "\n",
    "\n",
    "# Initialize the LeakPro object\n",
    "leakpro = LeakPro(CelebA_InputHandler, config_path)\n",
    "\n",
    "# Run the audit\n",
    "results = leakpro.run_audit(return_results=True)\n"
   ]
  },
  {
   "cell_type": "markdown",
   "metadata": {},
   "source": [
    "Generate some sample images"
   ]
  },
  {
   "cell_type": "code",
   "execution_count": null,
   "metadata": {},
   "outputs": [],
   "source": [
    "from examples.minv.celebA.utils.generator import ResNetGenerator\n",
    "import torch\n",
    "import matplotlib.pyplot as plt\n",
    "import numpy as np\n",
    "\n",
    "\"\"\"Generate example images using the trained generator\"\"\"\n",
    "\n",
    "device = torch.device('cuda' if torch.cuda.is_available() else 'cpu')\n",
    "\n",
    "# read config file\n",
    "with open('audit.yaml', 'r') as file:\n",
    "    config = yaml.safe_load(file)\n",
    "    \n",
    "\n",
    "dim_z = config['audit']['attack_list']['plgmi']['dim_z']\n",
    "\n",
    "# Load generator and discriminator\n",
    "gen = ResNetGenerator(num_classes=num_classes, dim_z=dim_z).to(device)\n",
    "gen.load_state_dict(torch.load('gen.pth'))\n",
    "\n",
    "# Generate images\n",
    "gen.eval()\n",
    "\n",
    "n_images = 4\n",
    "z = torch.empty(n_images, dim_z, dtype=torch.float32, device=device).normal_()\n",
    "y = torch.randint(0, num_classes, (n_images,)).to(device) # random labels\n",
    "#y = torch.tensor([0, 1, 2, 3]).to(device) # fixed labels\n",
    "print(y) \n",
    "\n",
    "with torch.no_grad():\n",
    "    fake = gen(z, y)\n",
    "\n",
    "# Normalize the generated images to the range [0, 1]\n",
    "fake = (fake - fake.min()) / (fake.max() - fake.min())\n",
    "\n",
    "# Plot the generated images\n",
    "plt.figure(figsize=(10, 5))\n",
    "for i in range(n_images):\n",
    "    plt.subplot(1, n_images, i + 1)\n",
    "    plt.imshow(np.transpose(fake[i].cpu().numpy(), (1, 2, 0)))\n",
    "    plt.axis('off')\n",
    "plt.tight_layout()\n",
    "plt.show()\n",
    "\n",
    "# Printed tensor corresponds to the reconstructed identity in private dataset"
   ]
  }
 ],
 "metadata": {
  "kernelspec": {
   "display_name": "base",
   "language": "python",
   "name": "python3"
  },
  "language_info": {
   "codemirror_mode": {
    "name": "ipython",
    "version": 3
   },
   "file_extension": ".py",
   "mimetype": "text/x-python",
   "name": "python",
   "nbconvert_exporter": "python",
   "pygments_lexer": "ipython3",
   "version": "3.11.11"
  }
 },
 "nbformat": 4,
 "nbformat_minor": 2
}
